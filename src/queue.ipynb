{
 "cells": [
  {
   "cell_type": "markdown",
   "id": "cabe5e34-6ed5-44e2-b97e-382c1e80f07f",
   "metadata": {
    "jp-MarkdownHeadingCollapsed": true
   },
   "source": [
    "# Stacks"
   ]
  },
  {
   "cell_type": "markdown",
   "id": "d53452ee-0ffb-4775-b21f-693f3c44b2b6",
   "metadata": {},
   "source": [
    "An Stack is a collection of objects  that are inserted and removed according to the **last in**, **first out** (**LIFO**) principle.\n",
    "\n",
    "The fundamental operation of a stack is pushing and popping objects from a stack.\n",
    "\n",
    "![String Example](../img/queue/stack.jpg)\n",
    "\n",
    "*Example of push and pop from a stack*"
   ]
  },
  {
   "cell_type": "markdown",
   "id": "8b9a447a-251c-4c07-b54b-b9710a0b676f",
   "metadata": {},
   "source": [
    "## The Stack Abstract Data Type (Stack ADT)"
   ]
  },
  {
   "cell_type": "markdown",
   "id": "8914dc59-bb45-4f24-a63a-007ece05cc58",
   "metadata": {},
   "source": [
    "A stack abstract data type support the following structures:\n",
    "- push(): **Add element to top of stack** \n",
    "- pop(): **Remove and return top element from the stack**\n",
    "\n",
    "We can add this other methods for convenience\n",
    "- top(): **Return top element of stack (witouth removing)**\n",
    "- is_empty(): **Return True if the stack is empty**\n",
    "- len(): **Return the length of stack**"
   ]
  },
  {
   "cell_type": "markdown",
   "id": "d3da6313-553f-49aa-a544-35d968344e13",
   "metadata": {},
   "source": [
    "### Simple array-based stack implementation"
   ]
  },
  {
   "cell_type": "markdown",
   "id": "3047016c-cd0f-414e-a41a-26db5fda8721",
   "metadata": {},
   "source": [
    "We can utilize a list to create or implement a stack, but a Python list incorporates numerous other functionalities that violate the purity of our stack ADT. To address this issue, we can employ an [adapter pattern](https://refactoring.guru/design-patterns/adapter). This design pattern encapsulates the original object and adapts it through specific interfaces, allowing it to adhere to a specific protocol."
   ]
  },
  {
   "cell_type": "code",
   "execution_count": 5,
   "id": "28218caf-a0ba-418a-a058-7596b8317618",
   "metadata": {},
   "outputs": [],
   "source": [
    "#Code Fragment 6.1: Definition for an Empty exception class.\n",
    "class Empty(Exception):\n",
    "    \"\"\"Error attempting to access an element from an empty container.\"\"\"\n",
    "    ..."
   ]
  },
  {
   "cell_type": "code",
   "execution_count": 8,
   "id": "b2009ae4-2472-4059-8668-dee355d6c8f1",
   "metadata": {},
   "outputs": [],
   "source": [
    "#Code Fragment 6.2: Implementing a stack using a Python list as storage.\n",
    "class ArrayStack():\n",
    "    def __init__(self):\n",
    "        self._data = []\n",
    "    \n",
    "    def __len__(self):\n",
    "        return len(self._data)\n",
    "\n",
    "    def is_empty(self):\n",
    "        return len(self) == 0\n",
    "\n",
    "    def _raise_empty(self):\n",
    "        if self.is_empty():\n",
    "            raise Empty(\"stack is empty\")\n",
    "\n",
    "    def push(self, obj):\n",
    "        self._data.append(obj)\n",
    "\n",
    "    def top(self):\n",
    "        self._raise_empty()\n",
    "        return self._data[-1]\n",
    "    \n",
    "    def pop(self):\n",
    "        self._raise_empty()\n",
    "        return self._data.pop()"
   ]
  },
  {
   "cell_type": "markdown",
   "id": "182ae53f-a697-4496-80a2-231595d9d604",
   "metadata": {},
   "source": [
    "**The implementations of top, is_empty, and len have constant time complexity in the worst-case scenario. The push and pop operations have amortized time complexity of O(1).**\n",
    "\n",
    "![Stack Operations Time Complexity](../img/queue/stack_operations_time.png)\n",
    "\n",
    "**Note: We can eliminate the amortized time complexity by modifying the stack constructor to accept a parameter specifying the maximum capacity of the stack and initializing the data member as a list of that length. (This change would require further adaptations throughout the code.)**\n"
   ]
  },
  {
   "cell_type": "markdown",
   "id": "dc175d26-dae1-415e-b0c4-49eba06f480b",
   "metadata": {},
   "source": [
    "### Reversing Data Using Stack"
   ]
  },
  {
   "cell_type": "markdown",
   "id": "3ca05e79-a01c-42dd-a5a5-d34cb2b4786a",
   "metadata": {},
   "source": [
    "Due to its Last-In-First-Out (LIFO) protocol, a stack serves as a versatile tool for reversing a sequence of data. For instance, if values 1, 2, and 3 are pushed into a stack, they will be popped out as 3, 2, and 1, respectively."
   ]
  },
  {
   "cell_type": "code",
   "execution_count": 11,
   "id": "acbf1f25-7752-44a0-b109-2debc70a4bab",
   "metadata": {},
   "outputs": [],
   "source": [
    "#Code Fragment 6.3: A function that reverses the order of lines in a file.\n",
    "def reverse_file(filename):\n",
    "    stack = ArrayStack()\n",
    "    original = open(filename)\n",
    "    for line in original:\n",
    "        stack.push(line.rstrip('\\n'))\n",
    "    original.close()\n",
    "\n",
    "    output = open(filename, 'w')\n",
    "    while not stack.is_empty():\n",
    "        output.write(stack.pop + '\\n')\n",
    "    output.close()"
   ]
  },
  {
   "cell_type": "markdown",
   "id": "a1d0999c-61d5-4abe-b688-a80561b82d5a",
   "metadata": {},
   "source": [
    "# Queues"
   ]
  },
  {
   "cell_type": "markdown",
   "id": "d3699174-2ef1-435f-a17e-5dcd13c9748c",
   "metadata": {},
   "source": [
    "An Queue is a collection of objects  that are inserted and removed according to the **first in**, **first out** (**FIFO**) principle.\n",
    "\n",
    "The fundamental operation of a queue is enqueue and dequeue objects from a queue.\n",
    "\n",
    "![String Example](../img/queue/queue_fifo.png)\n"
   ]
  },
  {
   "cell_type": "markdown",
   "id": "9fecd143-fd0f-4cbc-a10d-62755fca521e",
   "metadata": {},
   "source": [
    "## The Queue Abstract Data Type (Queue ADT)"
   ]
  },
  {
   "cell_type": "markdown",
   "id": "05b6989c-385d-4da5-b34f-d6a423534f9e",
   "metadata": {},
   "source": [
    "Formally, the queue abstract data type defines a collection that keeps objects in a sequence, where element access and deletion are restricted to the first element in the queue, and element insertion is restricted to the back of the sequence.\n",
    "- enqueue(e): **Add element e to the back of queue.**\n",
    "- dequeue(): **Remove first element of a queue**\n",
    "\n",
    "We can add this other methods for convenience\n",
    "- first(): **Return a reference to the element at the front of queue Q, without removing it; an error occurs if the queue is empty.**\n",
    "- is_empty(): **Return True if queue does not contain any elements.**\n",
    "- len(): **Return the number of elements in queue**"
   ]
  },
  {
   "cell_type": "markdown",
   "id": "729fcd58-7b0e-4b53-8846-cba6d2d89ae4",
   "metadata": {},
   "source": [
    "### Array-based Queue Implementation"
   ]
  },
  {
   "cell_type": "markdown",
   "id": "811c0985-fbff-4527-8d0d-58c819decf94",
   "metadata": {},
   "source": [
    "We could attempt a straightforward implementation similar to what we did with stacks. However, if we pop an element from the beginning and append an element to the end, it results in an O(n) operation due to the need to shift all other elements by one position.\n",
    "\n",
    "To circumvent this, we can replace the dequeued element with None and maintain a pointer to the index of the element currently at the front of the queue. However, this introduces another issue: each pop operation consumes an additional position in the array. Consequently, a queue with few elements but frequent enqueue and dequeue operations will consume excessive memory (trading O(1) operation for O(N) memory usage).\n",
    "\n",
    "Fortunately, we can address this by using a circular array.\n",
    "\n",
    "![Queue With Circular Array](../img/queue/queue_circular_array.png)\n",
    "\n",
    "We increment the index with every dequeue operation but insert elements at the index % N position of the array. As long as the number of elements doesn't exceed the array size, there's no need to increase the array length. This allows us to maintain O(1) operation complexity with constant memory usage, which depends solely on the number of elements rather than the number of operations."
   ]
  },
  {
   "cell_type": "markdown",
   "id": "7c7c0969-4377-422a-9c1f-beccfbcc1e41",
   "metadata": {},
   "source": [
    "### Python Queue Implementation"
   ]
  },
  {
   "cell_type": "code",
   "execution_count": 108,
   "id": "23973c0c-0072-400e-afdc-8ca60eee74ad",
   "metadata": {},
   "outputs": [],
   "source": [
    "#Code Fragment 6.7: Array-based implementation of a queue (continued from CodeFragment 6.6).\n",
    "class ArrayQueue:\n",
    "    DEFAULT_CAPACITY = 10\n",
    "    def __init__(self):\n",
    "        self._size = 0\n",
    "        self._front = 0\n",
    "        self._data = [None]*ArrayQueue.DEFAULT_CAPACITY\n",
    "\n",
    "    def __len__(self):\n",
    "        return self._size\n",
    "\n",
    "    def is_empty(self):\n",
    "        return self._size == 0\n",
    "\n",
    "    def _raise_empty(self):\n",
    "        if self.is_empty():\n",
    "            raise Empty(\"stack is empty\")\n",
    "\n",
    "    def first(self):\n",
    "        self._raise_empty()\n",
    "        return self._data[self._front]\n",
    "\n",
    "    def _resize(self, cap):\n",
    "        old = self._data\n",
    "        self._data = [None]*cap\n",
    "        walk = self._front\n",
    "        for k in range(self._size):\n",
    "            self._data[k] = old[walk]\n",
    "            walk = (walk+k)%len(old)\n",
    "        self._front = 0\n",
    "\n",
    "    def enqueue(self, obj):\n",
    "        if self._size == len(self._data):\n",
    "            self._resize(len(self._data)*2)\n",
    "        avail = (self._front + self._size) % len(self._data)\n",
    "        self._data[avail] = obj\n",
    "        self._size += 1\n",
    "\n",
    "    def dequeue(self):\n",
    "        self._raise_empty()\n",
    "        if 0 < self._size < len(self._data) // 4:\n",
    "            self._resize(len(self._data)//2)\n",
    "        answer = self._data[self._front]\n",
    "        self._data[self._front] = None\n",
    "        self._front = (self._front+1)%len(self._data)\n",
    "        self._size -= 1\n",
    "        return answer\n"
   ]
  },
  {
   "cell_type": "markdown",
   "id": "0effd556-6e85-47f6-82ba-cf69a747f84c",
   "metadata": {},
   "source": [
    "\n",
    "\n",
    "![Stack Operations Time Complexity](../img/queue/queue_circular_array_operations.png)\n"
   ]
  },
  {
   "cell_type": "markdown",
   "id": "e3f3aa3f-08b0-41a8-8d86-82ba050790d4",
   "metadata": {},
   "source": [
    "# DeQue"
   ]
  },
  {
   "cell_type": "markdown",
   "id": "3c1bc3e2-f478-4f46-be64-941b720c236e",
   "metadata": {},
   "source": [
    "We next consider a queue-like data structure that supports insertion and deletion at both the front and the back of the queue. Such a structure is called a **double ended queue**, or **deque**.\n",
    "\n",
    "![Deque Example](../img/queue/queue_deque.jpg)\n"
   ]
  },
  {
   "cell_type": "markdown",
   "id": "4c602d12-730f-474a-a2f1-f04e88b38057",
   "metadata": {},
   "source": [
    "## Deque Abstract Data Type (Deque ADT)"
   ]
  },
  {
   "cell_type": "markdown",
   "id": "64030d52-e3f8-43bf-9769-785a5bf10eb8",
   "metadata": {},
   "source": [
    "To provide a symmetrical abstraction, the deque ADT is defined so that deque supports the following methods:\n",
    "- add_first(obj): **Add object obj to the front of deque.**\n",
    "- add_last(obj): **Add object obj to the end of deque.**\n",
    "- delete_first(): **Remove and retrieve the first object of the deque, an error occours if deque is empty.**\n",
    "- delete_last(): **Remove and retireve the last object of the deque, an error occours if deque is empty.**\n",
    "  \n",
    "Additionally, the deque ADT will include the following accessors:\n",
    "- first(): **Return (but do not remove) the first element of, an error occurs if the deque is empty.**\n",
    "- last(): **Return (but do not remove) the last element of, an error occurs if the deque is empty.**\n",
    "- len(): **Return the number of elements on deque.**\n",
    "- is_empty(): **Return  True if the number of elements on deque is 0.**"
   ]
  },
  {
   "cell_type": "markdown",
   "id": "ad39247d-3da8-483b-ac14-d85bed055622",
   "metadata": {},
   "source": [
    "### Implementing a Deque with a Circular Array"
   ]
  },
  {
   "cell_type": "markdown",
   "id": "3b25faef-bc06-4447-b665-f0b7fd20668c",
   "metadata": {},
   "source": [
    "we can keep something very similar as we did with queue, to get back of the queue we can use the following formula:\n",
    "\n",
    "back = (self._front + self._size − 1) % len(self._data)\n",
    "\n",
    "Our implementation of the ArrayDeque.add last method is essentially the same as that for ArrayQueue.enqueue, including the reliance on a resize utility. Like-wise, the implementation of the ArrayDeque.delete first method is the same as ArrayQueue.dequeue."
   ]
  },
  {
   "cell_type": "code",
   "execution_count": 50,
   "id": "3af0daed-677b-4865-9a16-4a3fefa162e0",
   "metadata": {},
   "outputs": [],
   "source": [
    "class ArrayDeque:\n",
    "    DEFAULT_CAPACITY = 10\n",
    "    def __init__(self):\n",
    "        self._size = 0\n",
    "        self._front = 0\n",
    "        self._data = [None]*ArrayQueue.DEFAULT_CAPACITY\n",
    "\n",
    "    def __len__(self):\n",
    "        return self._size\n",
    "\n",
    "    def is_empty(self):\n",
    "        return self._size == 0\n",
    "\n",
    "    def _raise_empty(self):\n",
    "        if self.is_empty():\n",
    "            raise Empty(\"stack is empty\")\n",
    "\n",
    "    def first(self):\n",
    "        self._raise_empty()\n",
    "        return self._data[self._front]\n",
    "\n",
    "    @property\n",
    "    def _back(self):\n",
    "        return (self._front + self._size - 1)%len(self._data)\n",
    "\n",
    "    def last(self):\n",
    "        self._raise_empty() \n",
    "        return self._data[self._back]\n",
    "\n",
    "    def _resize(self, cap):\n",
    "        old = self._data\n",
    "        self._data = [None]*cap\n",
    "        walk = self._front\n",
    "        for k in range(self._size):\n",
    "            self._data[k] = old[walk]\n",
    "            walk = (walk+k)%len(old)\n",
    "        self._front = 0\n",
    "\n",
    "    def add_first(self, obj):\n",
    "        if self._size == len(self._data):\n",
    "            self._resize(len(self._data)*2)\n",
    "        self._data[self._front - 1] = obj\n",
    "        self._front = (self._front - 1) % len(self._data)\n",
    "        self._size += 1\n",
    "        \n",
    "    def remove_first(self):\n",
    "        self._raise_empty()\n",
    "        if 0 < self._size < len(self._data) // 4:\n",
    "            self._resize(len(self._data)//2)\n",
    "        answer = self._data[self._front]\n",
    "        self._data[self._front] = None\n",
    "        self._front = (self._front+1)%len(self._data)\n",
    "        self._size -= 1\n",
    "        return answer\n",
    "        \n",
    "    def add_last(self, obj):\n",
    "        if self._size == len(self._data):\n",
    "            self._resize(len(self._data)*2)\n",
    "        avail = (self._front + self._size) % len(self._data)\n",
    "        self._data[avail] = obj\n",
    "        self._size += 1\n",
    "    \n",
    "    def remove_last(self):\n",
    "        self._raise_empty()\n",
    "        if 0 < self._size < len(self._data) // 4:\n",
    "            self._resize(len(self._data)//2)\n",
    "        answer = self._data[self._back]\n",
    "        self._data[self._back] = None\n",
    "        self._size -= 1\n",
    "        return answer\n"
   ]
  },
  {
   "cell_type": "markdown",
   "id": "5f8c8497-a79a-4c4d-a65b-6acf891ed8a1",
   "metadata": {},
   "source": [
    "# Questions"
   ]
  },
  {
   "cell_type": "markdown",
   "id": "9501e351-5867-4bc1-b558-d6ee4a061929",
   "metadata": {},
   "source": [
    "## Question 1\n",
    "```What values are returned during the following series of stack operations, if executed upon an initially empty stack? push(5), push(3), pop(), push(2), push(8), pop(), pop(), push(9), push(1), pop(), push(7), push(6), pop(), pop(), push(4), pop(), pop(), pop().```"
   ]
  },
  {
   "cell_type": "code",
   "execution_count": 62,
   "id": "54e158bc-3841-415b-a7e0-a7d38c04e6a2",
   "metadata": {},
   "outputs": [
    {
     "name": "stdout",
     "output_type": "stream",
     "text": [
      "3\n",
      "8\n",
      "2\n",
      "1\n",
      "6\n",
      "7\n",
      "4\n",
      "9\n",
      "5\n"
     ]
    }
   ],
   "source": [
    "stack = ArrayStack()\n",
    "stack.push(5)\n",
    "stack.push(3)\n",
    "print(stack.pop())\n",
    "stack.push(2)\n",
    "stack.push(8)\n",
    "print(stack.pop())\n",
    "print(stack.pop())\n",
    "stack.push(9)\n",
    "stack.push(1)\n",
    "print(stack.pop())\n",
    "stack.push(7)\n",
    "stack.push(6)\n",
    "print(stack.pop())\n",
    "print(stack.pop())\n",
    "stack.push(4)\n",
    "print(stack.pop())\n",
    "print(stack.pop())\n",
    "print(stack.pop())"
   ]
  },
  {
   "cell_type": "markdown",
   "id": "2602712c-2a2e-424d-b250-aa2fe7e06c14",
   "metadata": {},
   "source": [
    "## Question 2\n",
    "``` Suppose an initially empty stack S has executed a total of 25 push operations, 12 top operations, and 10 pop operations, 3 of which raised Empty errors that were caught and ignored. What is the current size of S?```"
   ]
  },
  {
   "cell_type": "markdown",
   "id": "d45a0342-fa35-41f0-87cc-1e6913e52b9f",
   "metadata": {},
   "source": [
    "as top operation do not remove the item from stack, and as 3 of 10 pop operations raise empty errors, we got 25 push (25 itens on stack) minus 7 pop (7 itens removed from stack), which leads to 18 itens on stack"
   ]
  },
  {
   "cell_type": "markdown",
   "id": "eda057de-7070-497d-a795-65babd8c1531",
   "metadata": {},
   "source": [
    "## Question 3\n",
    "```Implement a function with signature transfer(S, T) that transfers all elements from stack S onto stack T, so that the element that starts at the top of S is the first to be inserted onto T, and the element at the bottom of S ends up at the top of T.```"
   ]
  },
  {
   "cell_type": "code",
   "execution_count": 67,
   "id": "e8e7c9f7-1a39-456e-bdd2-9afd73cac250",
   "metadata": {},
   "outputs": [
    {
     "name": "stdout",
     "output_type": "stream",
     "text": [
      "number of top item on stack S: 19\n",
      "number of top item on stack T: 0\n"
     ]
    }
   ],
   "source": [
    "S = ArrayStack()\n",
    "T = ArrayStack()\n",
    "\n",
    "for i in range(20):\n",
    "    S.push(i)\n",
    "print(f'number of top item on stack S: {S.top()}')\n",
    "\n",
    "while not S.is_empty():\n",
    "    T.push(S.pop())\n",
    "\n",
    "print(f'number of top item on stack T: {T.pop()}')"
   ]
  },
  {
   "cell_type": "markdown",
   "id": "88a95e7f-a554-4d75-9f78-33f19e69e700",
   "metadata": {},
   "source": [
    "## Question 4\n",
    "```Give a recursive method for removing all the elements from a stack.```"
   ]
  },
  {
   "cell_type": "code",
   "execution_count": 70,
   "id": "f2cf0f39-6b37-43fc-b6c8-29e336b7ddc0",
   "metadata": {},
   "outputs": [
    {
     "name": "stdout",
     "output_type": "stream",
     "text": [
      "len stack before emptying: 20\n",
      "len stack after emptying: 0\n"
     ]
    }
   ],
   "source": [
    "def emptying_stack(stack):\n",
    "    if stack.is_empty():\n",
    "        return\n",
    "    else:\n",
    "        stack.pop()\n",
    "        return emptying_stack(stack)\n",
    "\n",
    "stack = ArrayStack()\n",
    "for i in range(20):\n",
    "    stack.push(i)\n",
    "print(f'len stack before emptying: {len(stack)}')\n",
    "emptying_stack(stack)\n",
    "print(f'len stack after emptying: {len(stack)}')"
   ]
  },
  {
   "cell_type": "markdown",
   "id": "dcc5b1f0-783b-49a9-83fb-f1083dce6a19",
   "metadata": {},
   "source": [
    "# Question 5\n",
    "```Implement a function that reverses a list of elements by pushing them onto a stack in one order, and writing them back to the list in reversed order.```"
   ]
  },
  {
   "cell_type": "code",
   "execution_count": 71,
   "id": "2152d6e0-23c8-4e00-8f7b-2908ac24248a",
   "metadata": {},
   "outputs": [
    {
     "name": "stdout",
     "output_type": "stream",
     "text": [
      "[9, 8, 7, 6, 5, 4, 3, 2, 1]\n"
     ]
    }
   ],
   "source": [
    "list = [1,2,3,4,5,6,7,8,9]\n",
    "stack = ArrayStack()\n",
    "for item in list:\n",
    "    stack.push(item)\n",
    "    \n",
    "list = []\n",
    "while not stack.is_empty():\n",
    "    list.append(stack.pop())\n",
    "\n",
    "print(list)"
   ]
  },
  {
   "cell_type": "markdown",
   "id": "cbba74de-19ce-4585-ba08-5170eea88ed1",
   "metadata": {},
   "source": [
    "## Question 6\n",
    "```Give a precise and complete definition of the concept of matching for grouping symbols in an arithmetic expression. Your definition may be recursive.```"
   ]
  },
  {
   "cell_type": "code",
   "execution_count": 102,
   "id": "96b5c203-10f3-43c6-b580-252b86c36daa",
   "metadata": {},
   "outputs": [
    {
     "data": {
      "text/plain": [
       "True"
      ]
     },
     "execution_count": 102,
     "metadata": {},
     "output_type": "execute_result"
    }
   ],
   "source": [
    "MATCHING_GROUPS = {\n",
    "    '{': '}',\n",
    "    '(': ')',\n",
    "    '[': ']'\n",
    "}\n",
    "\n",
    "def matching_group(expression, stack=None):\n",
    "    if not stack:\n",
    "        stack = ArrayStack()\n",
    "        \n",
    "    if not expression:\n",
    "        return len(stack) == 0\n",
    "\n",
    "    else:\n",
    "        if expression[0] in MATCHING_GROUPS.keys():\n",
    "            stack.push(expression[0])\n",
    "        elif not stack.is_empty():\n",
    "            if expression[0] == MATCHING_GROUPS[stack.top()]:\n",
    "                stack.pop()\n",
    "        return matching_group(expression[1:], stack)\n",
    "\n",
    "expression = '(10 + 5) + {20 + (5 - 10)}'\n",
    "\n",
    "matching_group(expression)"
   ]
  },
  {
   "cell_type": "markdown",
   "id": "b11459eb-d06f-4251-aace-3df0ee1d55dd",
   "metadata": {},
   "source": [
    "## Question 7\n",
    "```What values are returned during the following sequence of queue operations, if executed on an initially empty queue? enqueue(5), enqueue(3), dequeue(), enqueue(2), enqueue(8), dequeue(), dequeue(), enqueue(9), enqueue(1), dequeue(), enqueue(7), enqueue(6), dequeue(), dequeue(), enqueue(4), dequeue(), dequeue().```"
   ]
  },
  {
   "cell_type": "code",
   "execution_count": 109,
   "id": "c13e0f67-8769-446a-8f11-d70c7c3afa4b",
   "metadata": {},
   "outputs": [
    {
     "name": "stdout",
     "output_type": "stream",
     "text": [
      "5\n",
      "3\n",
      "2\n",
      "8\n",
      "9\n",
      "1\n",
      "7\n",
      "6\n"
     ]
    }
   ],
   "source": [
    "queue = ArrayQueue()\n",
    "queue.enqueue(5)\n",
    "queue.enqueue(3)\n",
    "print(queue.dequeue())\n",
    "queue.enqueue(2)\n",
    "queue.enqueue(8)\n",
    "print(queue.dequeue())\n",
    "print(queue.dequeue())\n",
    "queue.enqueue(9)\n",
    "queue.enqueue(1)\n",
    "print(queue.dequeue())\n",
    "queue.enqueue(7)\n",
    "queue.enqueue(6)\n",
    "print(queue.dequeue())\n",
    "print(queue.dequeue())\n",
    "queue.enqueue(4)\n",
    "print(queue.dequeue())\n",
    "print(queue.dequeue())"
   ]
  },
  {
   "cell_type": "markdown",
   "id": "36e7f2fc-f508-4cd1-beca-1a519d05b97a",
   "metadata": {},
   "source": [
    "## Question 8\n",
    "```Suppose an initially empty queue Q has executed a total of 32 enqueue operations, 10 first operations, and 15 dequeue operations, 5 of which raised Empty errors that were caught and ignored. What is the current size of Q?```"
   ]
  },
  {
   "cell_type": "markdown",
   "id": "a92218ff-b35f-43aa-a43b-5c07b0e08ca6",
   "metadata": {},
   "source": [
    "as 32 enqueue operations lead to 32 elements inside the queue, and as we got 15 dequeue operations which 5 raised empty errors, we got 10 elements retired from queue, which leads to 22 elements on the queue"
   ]
  },
  {
   "cell_type": "markdown",
   "id": "ad3c68a8-4b15-4e5b-83bc-78f9b25a392a",
   "metadata": {},
   "source": [
    "## Question 9\n",
    "```Had the queue of the previous problem been an instance of ArrayQueue that used an initial array of capacity 30, and had its size never been greater than 30, what would be the final value of the front instance variable?```"
   ]
  },
  {
   "cell_type": "markdown",
   "id": "03183f8c-dc3e-4a62-ac7c-0b6d26f7133c",
   "metadata": {},
   "source": [
    "as at every successfully pop operation you shift by 1, with 10 pop operations you'll have the _front at 10th position"
   ]
  },
  {
   "cell_type": "markdown",
   "id": "acf887e4-0a42-4c3f-9763-996ce3bcbb24",
   "metadata": {},
   "source": [
    "## Question 10\n",
    "```Consider what happens if the loop in the ArrayQueue. resize method at lines 53–55 of Code Fragment 6.7 had been implemented as:\n",
    "    for k in range(self. size):\n",
    "        self. data[k] = old[k] # rather than old[walk]\n",
    "Give a clear explanation of what could go wrong.```"
   ]
  }
 ],
 "metadata": {
  "kernelspec": {
   "display_name": "Python 3 (ipykernel)",
   "language": "python",
   "name": "python3"
  },
  "language_info": {
   "codemirror_mode": {
    "name": "ipython",
    "version": 3
   },
   "file_extension": ".py",
   "mimetype": "text/x-python",
   "name": "python",
   "nbconvert_exporter": "python",
   "pygments_lexer": "ipython3",
   "version": "3.11.7"
  }
 },
 "nbformat": 4,
 "nbformat_minor": 5
}
