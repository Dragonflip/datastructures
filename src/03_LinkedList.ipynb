{
 "cells": [
  {
   "cell_type": "markdown",
   "id": "2e4609f8-0055-4bdf-a318-52fbaec71947",
   "metadata": {},
   "source": [
    "# Singly Linked List"
   ]
  },
  {
   "cell_type": "markdown",
   "id": "3c914f3f-200c-40d5-ad74-3cb697ad5499",
   "metadata": {},
   "source": [
    "A singly linked list, in its simplest form, is a collection of nodes that collectively form a linear sequence. Each node stores a reference to an object that is an element of the sequence, as well as a reference to the next node of the list.\n",
    "\n",
    "![Linked Lists](../img/linked_lists/linked_lists_example.png)\n",
    "\n",
    "The first and last nodes of a linked lists, respectively are know as **head** and **tail** of the list.  by starting at the **head node** and going one to another using the next reference we can reach the **tail node**, this is know as traversing the linked list. The linked list instance need a  reference for the head of the list, witouth a explicitely refenrece of the **head node** the instance of linked lists has no way to determine it."
   ]
  },
  {
   "cell_type": "markdown",
   "id": "39055293-0ee5-4ffd-8e1f-6c1eb8ab199d",
   "metadata": {},
   "source": [
    "### Inserting an Element at head of a Singly Linked List"
   ]
  },
  {
   "cell_type": "markdown",
   "id": "c6890efe-c47d-4590-9ae3-5a6c97742201",
   "metadata": {},
   "source": [
    "When using a singly linked list, we can easily insert an element at the head of the list: \n",
    "- create a new node\n",
    "- set the next element of this node as the head of the linked list\n",
    "- change the reference of head of linked list to this new node\n",
    "\n",
    "![Linked Lists](../img/linked_lists/inserting_element_at_head.png)"
   ]
  },
  {
   "cell_type": "markdown",
   "id": "ee44adf8-0739-4860-b548-b836edc23e6f",
   "metadata": {},
   "source": [
    "### Inserting an Element at tail of a Singly Linked List"
   ]
  },
  {
   "cell_type": "markdown",
   "id": "edcf4e08-ccb6-4bae-8ced-847c17e90b2d",
   "metadata": {},
   "source": [
    "When using a singly linked list, we can easily insert an element at the tail of the list: \n",
    "- create a new node\n",
    "- set the next element of the tail as the new node created\n",
    "    - if using a tail reference, need to update the tail reference to this new node\n",
    "\n",
    "![Linked Lists](../img/linked_lists/insert_element_at_tail.png)"
   ]
  },
  {
   "cell_type": "markdown",
   "id": "d3862ade-6ef3-4167-abea-5ee0a42383f9",
   "metadata": {},
   "source": [
    "### Remove head from a Singly Linked List"
   ]
  },
  {
   "cell_type": "markdown",
   "id": "af62ebc7-0c6e-4aea-b65f-ebf36045caa4",
   "metadata": {},
   "source": [
    "- change the head reference of the list to the next element of the head\n",
    "- delete the previously head node\n",
    "\n",
    "\n",
    "![Linked Lists](../img/linked_lists/remove_node_from_list.png)"
   ]
  },
  {
   "cell_type": "markdown",
   "id": "dc96e747-3a56-4142-9e70-d6819919d441",
   "metadata": {},
   "source": [
    "### Implementing a stack with singly linked list"
   ]
  },
  {
   "cell_type": "markdown",
   "id": "b8c01bd5-f668-4dc5-9ae9-b8dff182ca36",
   "metadata": {},
   "source": [
    "as we see with stack, we need to perform operations at the top of the stack, and as we see here, inserting and deleting elements at the head of Linked List is a O(n) operation, so this seems to be a good data structure to implement a stack."
   ]
  },
  {
   "cell_type": "code",
   "execution_count": 1,
   "id": "5131ca88-b481-49f5-8410-0fc8364cb5af",
   "metadata": {},
   "outputs": [],
   "source": [
    "#Code Fragment 7.4: A lightweight Node class for a singly linked list.\n",
    "class Empty(Exception):\n",
    "    \"\"\"Error attempting to access an element from an empty container.\"\"\"\n",
    "    ...\n",
    "\n",
    "class Node:\n",
    "    __slots__ = '_element' , '_next'\n",
    "\n",
    "    def __init__(self, element, next):\n",
    "        self._element = element\n",
    "        self._next = next"
   ]
  },
  {
   "cell_type": "code",
   "execution_count": 2,
   "id": "16c4acab-b9de-461f-a44f-7fd013f5ee8b",
   "metadata": {},
   "outputs": [],
   "source": [
    "class LinkedStack:\n",
    "    def __init__(self):\n",
    "        self._head =  None\n",
    "        self._size = 0\n",
    "\n",
    "    def __len__(self):\n",
    "        return self._size\n",
    "\n",
    "    def is_empty(self):\n",
    "        return self._size == 0\n",
    "\n",
    "    def _raise_empty(self):\n",
    "        if self.is_empty():\n",
    "            raise Empty(\"this stack is empty\")\n",
    "\n",
    "    def top(self):\n",
    "        self._raise_empty()\n",
    "        return self._head._element\n",
    "    \n",
    "    def push(self, obj):\n",
    "        self._head = Node(obj, self._head)\n",
    "        self._size += 1\n",
    "\n",
    "    def pop(self):\n",
    "        self._raise_empty()\n",
    "        aux = self._head._element\n",
    "        self._head = self._head._next\n",
    "        self._size -= 1\n",
    "        return aux"
   ]
  },
  {
   "cell_type": "markdown",
   "id": "6439434f-5187-4da5-88f8-5718a8f442b1",
   "metadata": {},
   "source": [
    "utilizing linked lists we got O(1) complexity, without a need to considerize amortized complexity\n",
    "\n",
    "![a](../img/linked_lists/LinkedStackComplexity.png)\n"
   ]
  },
  {
   "cell_type": "markdown",
   "id": "9e8b791e-13ec-437e-aa22-82c68239c952",
   "metadata": {},
   "source": [
    "### Implementing a Queue with Linked List"
   ]
  },
  {
   "cell_type": "markdown",
   "id": "6fa64710-01b1-48bf-af50-18c04747df69",
   "metadata": {},
   "source": [
    "as we see, we can easily add a object at the end of list, and remove and element at the top of the list, so linked list is also a good data structure to create a queue."
   ]
  },
  {
   "cell_type": "code",
   "execution_count": 2,
   "id": "1ab93dc6-bd78-4998-8e6d-50d0e0a0d912",
   "metadata": {},
   "outputs": [],
   "source": [
    "class LinkedQueue:\n",
    "    def __init__(self):\n",
    "        self._head =  None\n",
    "        self._tail = None\n",
    "        self._size = 0\n",
    "\n",
    "    def __len__(self):\n",
    "        return self._size\n",
    "\n",
    "    def is_empty(self):\n",
    "        return self._size == 0\n",
    "\n",
    "    def _raise_empty(self):\n",
    "        if self.is_empty():\n",
    "            raise Empty(\"this stack is empty\")\n",
    "\n",
    "    def first(self):\n",
    "        self._raise_empty()\n",
    "        return self._head._element\n",
    "    \n",
    "    def enqueue(self, obj):\n",
    "        newest = Node(obj, None)\n",
    "        if self.is_empty():\n",
    "            self._head = newest\n",
    "        else:\n",
    "            self._tail._next = newest\n",
    "        self._tail = newest\n",
    "        self._size += 1\n",
    "\n",
    "    def dequeue(self):\n",
    "        self._raise_empty()\n",
    "        aux = self._head._element\n",
    "        self._head = self._head._next\n",
    "        self._size -= 1\n",
    "        if self.is_empty():\n",
    "            self._tail = None\n",
    "        return aux"
   ]
  },
  {
   "cell_type": "markdown",
   "id": "afd7a09d-8e26-4327-920c-cd620f7d68e2",
   "metadata": {},
   "source": [
    "# Circularly Linked List"
   ]
  },
  {
   "cell_type": "markdown",
   "id": "cf845060-7e85-4fb5-b391-0be2abfe325b",
   "metadata": {},
   "source": [
    "To create a Circularly Linked List we need only to point the _next attribute of the tail of the list at the head of the list.\n",
    "\n",
    "![Circularly Linked List](../img/linked_lists/circularly_linked_list.png)\n",
    "\n",
    "A circularly linked list provides a more general model than a standard linked\n",
    "list for data sets that are cyclic, that is, which do not have any particular notion of a\n",
    "beginning and end."
   ]
  },
  {
   "cell_type": "markdown",
   "id": "5284676b-e127-47f0-91bf-87133e141fbf",
   "metadata": {},
   "source": [
    "#### Example of utilization of Circularly Linked List"
   ]
  },
  {
   "cell_type": "markdown",
   "id": "6a98a9bc-414c-45bd-a4ee-6ed5c7d62e0b",
   "metadata": {},
   "source": [
    "##### Round-Robin Schedulers"
   ]
  },
  {
   "cell_type": "markdown",
   "id": "6f2c9017-490e-43b5-9313-169386fccd93",
   "metadata": {},
   "source": [
    "To illustrate the application of a circularly linked list, let's consider its utility in a round-robin scheduler. This scheduler iterates through a collection of elements in a circular fashion, servicing each element by executing a designated action on it. Such a scheduler is commonly employed to equitably allocate a resource among multiple clients.\n",
    "\n",
    "![Round Robin](../img/linked_lists/round_robin_linked_list.png)\n",
    "\n",
    "When utilizing a standard queue, the process involves dequeuing the element, servicing it on the CPU, and then, if the service is not yet completed, enqueuing it again. However, this process can be streamlined by implementing a circular queue. In a circular queue, there's no need to dequeue the object; instead, we simply shift to the next service, maintaining efficiency and simplicity in the scheduling process."
   ]
  },
  {
   "cell_type": "markdown",
   "id": "84f4c46f-682f-4443-bae8-c6f78511e4cd",
   "metadata": {},
   "source": [
    "### Implementing the Circularly Queue"
   ]
  },
  {
   "cell_type": "markdown",
   "id": "7952b565-f753-4513-bd44-dc154785f9a5",
   "metadata": {},
   "source": [
    "Circularly Queue ADT\n",
    "\n",
    "- enqueue(obj) - add and object obj to the queue\n",
    "- dequeue() - remove and retrieve the first object of the queue\n",
    "- rotate() - shift the queue by 1\n",
    "- first() -  retrieve, withouth removing, the first object of the queue"
   ]
  },
  {
   "cell_type": "code",
   "execution_count": 240,
   "id": "f4d7cb4e-9ec6-4b00-b541-083c3c4ea2bd",
   "metadata": {},
   "outputs": [],
   "source": [
    "class CircularlyQueue:\n",
    "    def __init__(self):\n",
    "        self._tail = None\n",
    "        self._size = 0\n",
    "\n",
    "    def __len__(self):\n",
    "        return self._size\n",
    "\n",
    "    def is_empty(self):\n",
    "        return self._size == 0\n",
    "\n",
    "    def _raise_empty(self):\n",
    "        if self.is_empty():\n",
    "            raise Error(\"Queue is empty\")\n",
    "\n",
    "    def first(self):\n",
    "        self._raise_empty()\n",
    "        head = self._tail._next\n",
    "        return head._element\n",
    "\n",
    "    def enqueue(self, obj):\n",
    "        newest = Node(obj, None)\n",
    "        if self.is_empty():\n",
    "            newest._next = newest\n",
    "        else:\n",
    "            head = self._tail._next\n",
    "            newest._next =  head\n",
    "            self._tail._next = newest\n",
    "        self._tail = newest\n",
    "        self._size += 1\n",
    "\n",
    "    def dequeue(self):\n",
    "        self._raise_empty()\n",
    "        if len(self) == 1:\n",
    "            self._tail = None\n",
    "        else:\n",
    "            old_head = self._tail._next\n",
    "            self._tail._next = old_head._next\n",
    "        self._size -= 1\n",
    "        return old_head._element\n",
    "\n",
    "    def rotate(self):\n",
    "        self._raise_empty()\n",
    "        self._tail = self._tail._next\n",
    "    \n"
   ]
  },
  {
   "cell_type": "markdown",
   "id": "9b436cd0-cb5e-42ba-af51-2fd4d964bd7a",
   "metadata": {},
   "source": [
    "# Doubly Linked Lists"
   ]
  },
  {
   "cell_type": "markdown",
   "id": "210a87c4-0ead-4ed9-8e91-fe9a03b2bc6e",
   "metadata": {},
   "source": [
    "In a singly linked list, each node maintains a reference to the next node in the sequence. On the other hand, in a doubly linked list, each node retains references to both the next and previous nodes. This dual-reference structure enables easy navigation, allowing us to identify both the succeeding and preceding nodes with convenience and efficiency.\n",
    "\n",
    "With a singly linked list, efficiently deleting a node from an arbitrary interior position poses a challenge when only given a reference to that node. This difficulty arises because we lack the ability to easily ascertain the node immediately preceding the target node. However, this limitation is overcome with the use of doubly linked lists."
   ]
  },
  {
   "cell_type": "markdown",
   "id": "013afb87-5057-47f9-906b-f05bb3c2bd2a",
   "metadata": {},
   "source": [
    "### Header and Trailer Sentinels"
   ]
  },
  {
   "cell_type": "markdown",
   "id": "c49ff789-da5e-4f87-9f05-eb23714c2f19",
   "metadata": {},
   "source": [
    "to avoid some special cases when the Linked List is empty (as we did on enqueue and dequeue methods of CircularlyQueue class) he can add a header and a trailer nodes, their will have None as element, an serve only to mark the beguinning and end of List.\n",
    "\n",
    "![header trailer linked list](../img/linked_lists/header_trailer_double_linked_list.png)\n",
    "\n",
    "\n",
    "he slight extra space devoted to the sentinels greatly simplifies the logic of our operations, most notably, the header and trailer nodes never change (only the nodes between them change)."
   ]
  },
  {
   "cell_type": "markdown",
   "id": "2f8e7db6-f5af-4a77-84a9-264b5262e1f5",
   "metadata": {},
   "source": [
    "### Operations in a Double Linked List"
   ]
  },
  {
   "cell_type": "markdown",
   "id": "ca300ed5-a60a-4b89-ae3e-dd09f58cde0a",
   "metadata": {},
   "source": [
    "To insert in a double linked list is alwais between nodes (as we using head and trailer nodes). To perform an insertion, one simply updates the _next reference of the node preceding the desired position and the _previous reference of the node succeeding the desired position. This ensures smooth integration of the new node into the list structure.\n",
    "\n",
    "![header trailer linked list](../img/linked_lists/insertion_double_linked_list.png)"
   ]
  },
  {
   "cell_type": "markdown",
   "id": "dedf84bf-2edf-4cfb-b8dc-69d9b802d25c",
   "metadata": {},
   "source": [
    "to perform a deletion the two neighbors of the node to be deleted are linked directly to each other, thereby bypassing the original node.\n",
    "\n",
    "\n",
    "![header trailer linked list](../img/linked_lists/deletion_double_linked_list.png)"
   ]
  },
  {
   "cell_type": "markdown",
   "id": "d3c5c1f6-2d18-457e-b68b-062dde0ecb21",
   "metadata": {},
   "source": [
    "## Implementing a Double Linked List"
   ]
  },
  {
   "cell_type": "code",
   "execution_count": 64,
   "id": "eef2ea41-d8f3-4725-894e-ee89aac23556",
   "metadata": {},
   "outputs": [],
   "source": [
    "#Code Fragment 7.11: A Python Node class for use in a doubly linked list\n",
    "class Node:\n",
    "    __slots__ = '_element', '_next', '_prev'\n",
    "    def __init__(self, element, prev, next):\n",
    "        self._element = element\n",
    "        self._next = next\n",
    "        self._prev = prev"
   ]
  },
  {
   "cell_type": "code",
   "execution_count": 65,
   "id": "3cfdd0a4-eb9e-4600-9af7-f11a8bbd9e96",
   "metadata": {},
   "outputs": [],
   "source": [
    "class DoublyLinkedBase:\n",
    "    def __init__(self):\n",
    "        self._header = Node(None, None, None)\n",
    "        self._trailer = Node(None, None, None)\n",
    "        self._header._next = self._trailer\n",
    "        self._trailer._prev = self._header\n",
    "        self._size = 0\n",
    "\n",
    "    def __len__(self):\n",
    "        return self._size\n",
    "\n",
    "    def is_empty(self):\n",
    "        return len(self) == 0\n",
    "\n",
    "    def _raise_empty(self):\n",
    "        if len(self) == 0:\n",
    "            raise Error(\"empty queue\")\n",
    "\n",
    "    def _insert_between(self, obj, predecessor, sucessor):\n",
    "        newest = Node(obj, predecessor, sucessor)\n",
    "        predecessor._next = newest\n",
    "        sucessor._prev = newest\n",
    "        self._size += 1\n",
    "        return newest\n",
    "\n",
    "    def _delete_node(self, node):\n",
    "        predecessor = node._prev\n",
    "        sucessor = node._next\n",
    "        predecessor._next =  sucessor\n",
    "        sucessor._prev = predecessor\n",
    "        self._size -= 1\n",
    "        element = node._element\n",
    "        node._element = node._next = node._prev = None\n",
    "        return element\n",
    "\n",
    "    "
   ]
  },
  {
   "cell_type": "markdown",
   "id": "5bf0e9ee-c5b6-421c-9c76-6208c1a2bd05",
   "metadata": {},
   "source": [
    "## Implementing a Deque with Double Linked List"
   ]
  },
  {
   "cell_type": "markdown",
   "id": "33464b72-0f2c-4140-8193-42b2b30ce570",
   "metadata": {},
   "source": [
    "By employing doubly linked lists, it becomes feasible to implement a deque (double-ended queue) with operations of O(1) time complexity. This stands in contrast to the O(1)* amortized complexity achieved with arrays."
   ]
  },
  {
   "cell_type": "code",
   "execution_count": 66,
   "id": "b8b67d6c-16f0-43da-a818-3c8c5cf4a9a2",
   "metadata": {},
   "outputs": [],
   "source": [
    "class LinkedDeque(DoublyLinkedBase):\n",
    "    def first(self):\n",
    "        self._raise_empty()\n",
    "        return self._header._next._element\n",
    "        \n",
    "    def last(self):\n",
    "        self._raise_empty()\n",
    "        return self._trailer._prev._element\n",
    "        \n",
    "    def insert_first(self, obj):\n",
    "        self._insert_between(obj, self._header, self._header._next)\n",
    "        \n",
    "    def insert_last(self, obj):\n",
    "        self._insert_between(obj, self._trailer._prev, self._trailer)\n",
    "        \n",
    "    def delete_first(self):\n",
    "        self._raise_empty()\n",
    "        return self._delete_node(self._header._next)\n",
    "        \n",
    "    def delete_last(self):\n",
    "        self._raise_empty()\n",
    "        return self._delete_node(self._trailer._prev)"
   ]
  },
  {
   "cell_type": "markdown",
   "id": "e40c965b-d3a5-426c-ba0a-0c2fcbb2857a",
   "metadata": {},
   "source": [
    "# Positional List ADT"
   ]
  },
  {
   "cell_type": "markdown",
   "id": "21f4a03a-de45-4d0c-a0e1-54918ab6814a",
   "metadata": {},
   "source": [
    "A Positional List is a data structure that extends the concepts of a doubly linked list by adding the ability to access elements based on their positions in the list. While a doubly linked list provides fast access to elements through sequential iteration, a positional list allows direct access to elements based on their position in the list."
   ]
  },
  {
   "cell_type": "markdown",
   "id": "764eedc7-4ea9-4706-8cd9-5a02c839e712",
   "metadata": {},
   "source": [
    "### Position\n",
    "Position is an abstract data type that support the following methods:\n",
    "\n",
    "- element(): retrieve the element within that position"
   ]
  },
  {
   "cell_type": "markdown",
   "id": "46c983c5-41e5-46f5-9508-4291d69e51ec",
   "metadata": {},
   "source": [
    "### Position List\n",
    "\n",
    "Position List is an abstract data type that support the following methods:\n",
    "- fisrt(): retrieve the first element of list.\n",
    "- last(): retrieve the last element of list.\n",
    "- before(p: position): retrieve the element before a determined position.\n",
    "- after(p: position): retrieve the element after a determined position\n",
    "- is_empty(): return True if List is empty, return Else elsewhere.\n",
    "- len(): return the size of List.\n",
    "- iten(): return an iterator for elements in list.\n",
    "- add_first(obj): add and object obj at the beguining of list\n",
    "- add_last(obj): add and object obj at the end of list\n",
    "- add_before(p: position, obj): add and object obj before an position p\n",
    "- add_after(p: position, obj): add and object obj after an position p\n",
    "- replace(p: position, obj): replace the element containing in the position with an object obj\n",
    "- delete(p: position): delete the position p"
   ]
  },
  {
   "cell_type": "code",
   "execution_count": 67,
   "id": "11c84299-bedd-4052-a876-b0f0aa89f1bc",
   "metadata": {},
   "outputs": [],
   "source": [
    "#Code Fragment 7.14: A Position class\n",
    "class Position:\n",
    "    def __init__(self, container, node):\n",
    "        self._container = container\n",
    "        self._node = node\n",
    "\n",
    "    def element(self):\n",
    "        return self._node._element\n",
    "\n",
    "    def __eq__(self, other):\n",
    "        return (type(self) == type(other)) & (other.element() == self.element())\n",
    "\n",
    "    def __neq__(self, other):\n",
    "        return not self == other"
   ]
  },
  {
   "cell_type": "code",
   "execution_count": 78,
   "id": "84e473c2-ba11-4104-a722-11f448521bf0",
   "metadata": {},
   "outputs": [],
   "source": [
    "#Code Fragment 7.15 & 7.16: A PositionalList class based on a doubly linked list\n",
    "class PositionalList(DoublyLinkedBase):\n",
    "    def _validate(self, p):\n",
    "        if not isinstance(p, Position):\n",
    "            raise TypeError(\"p must be proper Position type\")\n",
    "        if p._container is not self:\n",
    "            raise ValueError('p does not belong to this container')\n",
    "        if p._node._next is None:\n",
    "            raise ValueError('p is no longer valid')\n",
    "        return p._node\n",
    "\n",
    "    def _make_position(self, node):\n",
    "        if node is self._header or node is self._trailer:\n",
    "            return None\n",
    "        return Position(self, node)\n",
    "\n",
    "    def first(self):\n",
    "        return self._make_position(self._header._next)\n",
    "\n",
    "    def last(self):\n",
    "        return self._make_position(self._trailer._prev)\n",
    "\n",
    "    def before(self, p):\n",
    "        node = self._validate(p)\n",
    "        return self._make_position(node._prev)\n",
    "\n",
    "    def after(self, p):\n",
    "        node = self._validate(p)\n",
    "        return self._make_position(node._next)\n",
    "\n",
    "    def __iter__(self):\n",
    "        cursor = self.first()\n",
    "        while cursor is not None:\n",
    "            yield cursor.element()\n",
    "            cursor = self.after(cursor)\n",
    "\n",
    "    def _insert_between(self, e, predecessor, successor):\n",
    "        node = super()._insert_between(e, predecessor, successor)\n",
    "        return Position(self, node)\n",
    "\n",
    "    def add_first(self, obj):\n",
    "        return self._insert_between(obj, self._header, self._header._next)\n",
    "\n",
    "    def add_last(self, obj):\n",
    "        return self._insert_between(obj, self._trailer._prev, self._trailer)\n",
    "\n",
    "    def add_before(self, p, obj):\n",
    "        original = self._validate(p)\n",
    "        return self._insert_between(obj, original._prev, original)\n",
    "\n",
    "    def add_after(self, p, obj):\n",
    "        original = self._validate(p)\n",
    "        return self._insert_between(obj, original, original._next)\n",
    "\n",
    "    def delete(self, p):\n",
    "        original = self._validate(p)\n",
    "        return self._delete_node(original)\n",
    "\n",
    "    def replace(self, p, obj):\n",
    "        original = self._validate(p)\n",
    "        old_value = original._element\n",
    "        original._element = e\n",
    "        return old_value\n",
    "        "
   ]
  },
  {
   "cell_type": "markdown",
   "id": "ec19bf7a-dc0e-45ba-83b6-f39817a52307",
   "metadata": {},
   "source": [
    "# Questions"
   ]
  },
  {
   "cell_type": "markdown",
   "id": "230fd7f8-ce42-47c2-9b5c-7cfea1fe0893",
   "metadata": {},
   "source": [
    "## Question 1\n",
    "```Give an algorithm for finding the second-to-last node in a singly linked list in which the last node is indicated by a next reference of None.```"
   ]
  },
  {
   "cell_type": "code",
   "execution_count": 11,
   "id": "a3e340cd-d25c-4a19-aef1-e68d220cf730",
   "metadata": {},
   "outputs": [
    {
     "data": {
      "text/plain": [
       "8"
      ]
     },
     "execution_count": 11,
     "metadata": {},
     "output_type": "execute_result"
    }
   ],
   "source": [
    "linked_list = LinkedQueue()\n",
    "for i in range(10):\n",
    "    linked_list.enqueue(i)\n",
    "\n",
    "n = len(linked_list)\n",
    "\n",
    "#head is a single linked list\n",
    "head = linked_list._head\n",
    "node = head\n",
    "for i in range(1, n-1):\n",
    "    node = node._next\n",
    "\n",
    "node._element"
   ]
  },
  {
   "cell_type": "markdown",
   "id": "3bcf9912-2d58-4b77-903c-bf0351b1e5c6",
   "metadata": {},
   "source": [
    "## Question 2\n",
    "```Describe a good algorithm for concatenating two singly linked lists L and M, given only references to the first node of each list, into a single list L that contains all the nodes of L followed by all the nodes of M.```"
   ]
  },
  {
   "cell_type": "code",
   "execution_count": 124,
   "id": "7bff908b-46cd-455d-a695-2f2a15285d6d",
   "metadata": {},
   "outputs": [],
   "source": [
    "linked_list_1 = LinkedQueue()\n",
    "linked_list_2 = LinkedQueue()\n",
    "#creating the linked lists\n",
    "for i in range(10):\n",
    "    linked_list_1.enqueue(i)\n",
    "    linked_list_2.enqueue(10-i)\n",
    "\n",
    "#get head reference of both linked lists\n",
    "head_1 = linked_list_1._head\n",
    "head_2 = linked_list_2._head\n",
    "\n",
    "#concatenate second linked list to the first one\n",
    "node = head_1\n",
    "while node._next:\n",
    "    node = node._next\n",
    "node._next = head_2"
   ]
  },
  {
   "cell_type": "markdown",
   "id": "49bd6561-0eaa-403a-b175-ecd60da54aee",
   "metadata": {},
   "source": [
    "## Question 3\n",
    "```Describe a recursive algorithm that counts the number of nodes in a singly linked list.```"
   ]
  },
  {
   "cell_type": "code",
   "execution_count": 127,
   "id": "c8fcb2f5-e8e7-437c-b8bd-f2819f6d250e",
   "metadata": {},
   "outputs": [],
   "source": [
    "def count_nodes(node):\n",
    "    if isinstance(node, Node):\n",
    "        count = 1\n",
    "    else:\n",
    "        return 0\n",
    "    while True:\n",
    "        count += 1\n",
    "        node = node._next\n",
    "        if not node._next:\n",
    "            break\n",
    "    return count"
   ]
  },
  {
   "cell_type": "code",
   "execution_count": 129,
   "id": "3887655e-f2c7-4644-9680-3572e41f1e51",
   "metadata": {},
   "outputs": [
    {
     "data": {
      "text/plain": [
       "11"
      ]
     },
     "execution_count": 129,
     "metadata": {},
     "output_type": "execute_result"
    }
   ],
   "source": [
    "linked_list = LinkedQueue()\n",
    "#creating the linked lists\n",
    "for i in range(11):\n",
    "    linked_list.enqueue(i)\n",
    "\n",
    "head = linked_list._head\n",
    "count_nodes(head)"
   ]
  },
  {
   "cell_type": "markdown",
   "id": "1f3f4e21-f35b-41aa-9548-735fcb1cfdbc",
   "metadata": {},
   "source": [
    "## Question 4\n",
    "```Describe in detail how to swap two nodes x and y (and not just their contents) in a singly linked list L given references only to x and y. Repeat this exercise for the case when L is a doubly linked list. Which algorithm takes more time?```"
   ]
  },
  {
   "cell_type": "code",
   "execution_count": 237,
   "id": "ab26f266-044c-421b-8fca-9b353a7174a4",
   "metadata": {},
   "outputs": [
    {
     "name": "stdout",
     "output_type": "stream",
     "text": [
      "prev: 3, element: 2, prox: 5\n",
      "prev: 1, element: 4, prox: 3\n"
     ]
    }
   ],
   "source": [
    "double_linked = LinkedDeque()\n",
    "for i in range(10):\n",
    "    double_linked.insert_last(i)\n",
    "\n",
    "node = double_linked._header\n",
    "for i in range(3):\n",
    "    node = node._next\n",
    "node_1 = node\n",
    "\n",
    "for i in range(2):\n",
    "    node = node._next\n",
    "node_2 = node\n",
    "\n",
    "node_1_next = node_1._next\n",
    "node_1_prev = node_1._prev\n",
    "\n",
    "node_1._prev._next = node_2\n",
    "node_1._next._prev = node_2\n",
    "node_1._next = node_2._next\n",
    "node_1._prev = node_2._prev\n",
    "\n",
    "print(f\"prev: {node_1._prev._element}, element: {node_1._element}, prox: {node_1._next._element}\")\n",
    "\n",
    "node_2._prev._next = node_1\n",
    "node_2._next._prev = node_1\n",
    "node_2._next = node_1_next\n",
    "node_2._prev = node_1_prev\n",
    "\n",
    "print(f\"prev: {node_2._prev._element}, element: {node_2._element}, prox: {node_2._next._element}\")"
   ]
  },
  {
   "cell_type": "code",
   "execution_count": 238,
   "id": "ffe1f6ec-09f9-479a-8fe5-e5f20a7aaf94",
   "metadata": {},
   "outputs": [
    {
     "name": "stdout",
     "output_type": "stream",
     "text": [
      "element: 0, next: 1\n",
      "element: 1, next: 4\n",
      "element: 4, next: 3\n",
      "element: 3, next: 2\n",
      "element: 2, next: 5\n",
      "element: 5, next: 6\n",
      "element: 6, next: 7\n",
      "element: 7, next: 8\n",
      "element: 8, next: 9\n",
      "element: 9, next: None\n"
     ]
    }
   ],
   "source": [
    "node = double_linked._header\n",
    "for i in range(10):\n",
    "    node = node._next\n",
    "    print(f\"element: {node._element}, next: {node._next._element}\")\n",
    "    "
   ]
  },
  {
   "cell_type": "markdown",
   "id": "df5df46b-f6e8-4d60-b5f2-e85882c11917",
   "metadata": {},
   "source": [
    "## Question 5\n",
    "```Implement a function that counts the number of nodes in a circularly linked list.```"
   ]
  },
  {
   "cell_type": "code",
   "execution_count": 249,
   "id": "a2402382-ceb3-411f-92ea-66c91554f24c",
   "metadata": {},
   "outputs": [],
   "source": [
    "def count_circularly(list):\n",
    "    node = list._tail._next\n",
    "    count = 1\n",
    "    while node._next != list._tail._next:\n",
    "        node = node._next\n",
    "        count += 1\n",
    "        \n",
    "    return count"
   ]
  },
  {
   "cell_type": "code",
   "execution_count": 250,
   "id": "af601afc-ee82-42de-8402-b48b76f716bb",
   "metadata": {},
   "outputs": [
    {
     "data": {
      "text/plain": [
       "10"
      ]
     },
     "execution_count": 250,
     "metadata": {},
     "output_type": "execute_result"
    }
   ],
   "source": [
    "list = CircularlyQueue()\n",
    "for i in range(10):\n",
    "    list.enqueue(i)\n",
    "\n",
    "count_circularly(list)"
   ]
  },
  {
   "cell_type": "markdown",
   "id": "0fb8418e-dd86-47cc-b131-3f45f0d93834",
   "metadata": {},
   "source": [
    "## Question 6\n",
    "```Suppose that x and y are references to nodes of circularly linked lists, although not necessarily the same list. Describe a fast algorithm for telling if x and y belong to the same list.```"
   ]
  },
  {
   "cell_type": "code",
   "execution_count": 251,
   "id": "3bb5ffaa-224c-4cc4-837d-08884e1d74c3",
   "metadata": {},
   "outputs": [],
   "source": [
    "def check_if_same_list(x, y):\n",
    "    if x == y:\n",
    "        return True\n",
    "    node = x\n",
    "    while node._next != x:\n",
    "        node = node._next\n",
    "        if  node == y:\n",
    "            return True\n",
    "    return False"
   ]
  },
  {
   "cell_type": "markdown",
   "id": "3f09212a-0797-4568-a1d4-4702a0b9cfcb",
   "metadata": {},
   "source": [
    "## Question 7\n",
    "```Our CircularQueue class of Section 7.2.2 provides a rotate( ) method that has semantics equivalent to Q.enqueue(Q.dequeue( )), for a nonempty queue. Implement such a method for the LinkedQueue class of Section 7.1.2 without the creation of any new nodes.```"
   ]
  },
  {
   "cell_type": "code",
   "execution_count": 25,
   "id": "c085775d-6b2a-4fd2-aa61-6705df40d087",
   "metadata": {},
   "outputs": [],
   "source": [
    "class RotateLinkedQueue(LinkedQueue):\n",
    "    \n",
    "    def _previous(self, node):\n",
    "        walk = self._head\n",
    "        while True:\n",
    "            if walk._next == node:\n",
    "                return walk\n",
    "            if walk._next == self._tail:\n",
    "                return None\n",
    "            walk = walk._next\n",
    "            \n",
    "    def rotate(self):\n",
    "        self._tail._next = self._head\n",
    "        self._head = self._tail\n",
    "        self._tail = self._previous(self._tail)\n",
    "        self._tail._next = None\n"
   ]
  },
  {
   "cell_type": "code",
   "execution_count": 24,
   "id": "7e13653d-a3b0-48c8-af47-352dc2e456fa",
   "metadata": {},
   "outputs": [
    {
     "name": "stdout",
     "output_type": "stream",
     "text": [
      "0\n",
      "9\n",
      "8\n",
      "7\n",
      "6\n"
     ]
    }
   ],
   "source": [
    "queue = RotateLinkedQueue()\n",
    "for i in range(10):\n",
    "    queue.enqueue(i)\n",
    "\n",
    "print(queue.first())\n",
    "queue.rotate()\n",
    "print(queue.first())\n",
    "queue.rotate()\n",
    "print(queue.first())\n",
    "queue.rotate()\n",
    "print(queue.first())\n",
    "queue.rotate()\n",
    "print(queue.first())"
   ]
  },
  {
   "cell_type": "markdown",
   "id": "8a49018e-e052-4faa-8af8-a5211b9ef3ca",
   "metadata": {},
   "source": [
    "## Question 8\n",
    "```Describe a nonrecursive method for finding, by link hopping, the middle node of a doubly linked list with header and trailer sentinels. In the case of an even number of nodes, report the node slightly left of center as the “middle.” (Note: This method must only use link hopping; it cannot use a counter.) What is the running time of this method?```"
   ]
  },
  {
   "cell_type": "code",
   "execution_count": 49,
   "id": "e9a2ae4f-b14c-42a7-b04e-eacf2bdd2abc",
   "metadata": {},
   "outputs": [],
   "source": [
    "from copy import deepcopy\n",
    "\n",
    "def mid_node(queue):\n",
    "    slow_walker = deepcopy(queue._head)\n",
    "    fast_walker = deepcopy(queue._head)\n",
    "    flag = True\n",
    "    while True:\n",
    "        fast_walker = fast_walker._next\n",
    "        flag = not flag\n",
    "        if flag:\n",
    "            slow_walker = slow_walker._next\n",
    "        if fast_walker._next == None:\n",
    "            return slow_walker        "
   ]
  },
  {
   "cell_type": "code",
   "execution_count": 53,
   "id": "818a12c7-e3a7-4a8b-b4e0-e7ddd10e56a0",
   "metadata": {},
   "outputs": [
    {
     "data": {
      "text/plain": [
       "5"
      ]
     },
     "execution_count": 53,
     "metadata": {},
     "output_type": "execute_result"
    }
   ],
   "source": [
    "queue = LinkedQueue()\n",
    "for i in range(11):\n",
    "    queue.enqueue(i)\n",
    "\n",
    "node = mid_node(queue)\n",
    "node._element"
   ]
  },
  {
   "cell_type": "markdown",
   "id": "b5d44484-abc1-4245-a106-958f5e9ac7c1",
   "metadata": {},
   "source": [
    "## Question 9\n",
    "```Give a fast algorithm for concatenating two doubly linked lists L and M, with header and trailer sentinel nodes, into a single list L′.```"
   ]
  },
  {
   "cell_type": "code",
   "execution_count": 252,
   "id": "375bda7a-10cb-4aa5-b97a-645df691ad36",
   "metadata": {},
   "outputs": [],
   "source": [
    "def concatenate(L, M):\n",
    "    tail = L.trailer\n",
    "    tail._next = M.first\n",
    "    return L"
   ]
  },
  {
   "cell_type": "markdown",
   "id": "7e09412a-db44-4a77-9b47-12d9ca582406",
   "metadata": {},
   "source": [
    "## Question 10\n",
    "```There seems to be some redundancy in the repertoire of the positional list ADT, as the operation L.add_first(e) could be enacted by the alternative L.add_before(L.first( ), e). Likewise, L.add_last(e) might be performed as L.add_after(L.last( ), e). Explain why the methods add_first and add_last are necessary.```"
   ]
  },
  {
   "cell_type": "markdown",
   "id": "23e306f7-dc64-4918-9c4c-536b3c69b9e4",
   "metadata": {},
   "source": [
    "While it's true that `add_first` and `add_last` can be implemented using `add_before` and `add_after`, respectively, having dedicated methods for these operations can offer several advantages:\n",
    "\n",
    "1. **Clarity and Readability**: Having explicit methods like `add_first` and `add_last` makes the code more readable and intuitive. It clearly communicates the intention of adding an element at the beginning or end of the list without needing to infer it from the context.\n",
    "\n",
    "2. **Abstraction and Encapsulation**: By providing separate methods for common operations like adding elements at the beginning or end of the list, the implementation can encapsulate any internal details or optimizations related to these operations. This abstraction allows users of the ADT to interact with the list at a higher level without needing to know the implementation details.\n",
    "\n",
    "3. **Consistency**: Having dedicated methods for common operations promotes consistency within the API. It makes the API easier to learn and use since users can expect similar operations to have dedicated methods rather than needing to remember alternative ways of achieving the same result.\n",
    "\n",
    "Overall, while it's technically possible to implement `add_first` and `add_last` using `add_before` and `add_after`, providing dedicated methods for these operations enhances the clarity, performance, abstraction, and consistency of the positional list ADT.\n"
   ]
  },
  {
   "cell_type": "markdown",
   "id": "5b990fdf-d5ef-4bd6-87a8-40d98fbe6cfa",
   "metadata": {},
   "source": [
    "## Question 11\n",
    "```Implement a function, with calling syntax max(L), that returns the maximum element from a PositionalList instance L containing comparable elements.```"
   ]
  },
  {
   "cell_type": "code",
   "execution_count": 73,
   "id": "489caad9-44d2-4daa-89cc-a240833fb89b",
   "metadata": {},
   "outputs": [],
   "source": [
    "def max_element(positional_list:PositionalList):\n",
    "    if len(positional_list) == 0:\n",
    "        raise Error(\"positional list is empty\")\n",
    "    position = positional_list.first()\n",
    "    max = position.element()\n",
    "    for element in positional_list:\n",
    "        if element > max:\n",
    "            max = element\n",
    "    return max"
   ]
  },
  {
   "cell_type": "code",
   "execution_count": 80,
   "id": "1cef180d-b3ee-4fbe-8c44-717b257888a3",
   "metadata": {},
   "outputs": [
    {
     "name": "stdout",
     "output_type": "stream",
     "text": [
      "0.39892093569438014\n",
      "2.105723713497756\n",
      "1.1759235198266516\n",
      "6.513592949191023\n",
      "2.282452933870881\n",
      "1.2520249117392945\n",
      "0.4519601638662585\n",
      "4.222383897008916\n",
      "1.014628011374692\n",
      "0.5801309884169337\n",
      "max number inserted is 6.513592949191023\n"
     ]
    }
   ],
   "source": [
    "import random\n",
    "\n",
    "queue = PositionalList()\n",
    "for i in range(10):\n",
    "    rand_number = 10* (random.random())\n",
    "    queue.add_first(rand_number)\n",
    "    print(rand_number)\n",
    "\n",
    "print(f\"max number inserted is {max_element(queue)}\")"
   ]
  },
  {
   "cell_type": "markdown",
   "id": "5b10281a-7209-49e2-aab5-d19b07f81815",
   "metadata": {},
   "source": [
    "## Question 12\n",
    "```Redo the previously problem with max as a method of the PositionalList class, so that calling syntax L.max( ) is supported.```"
   ]
  },
  {
   "cell_type": "code",
   "execution_count": 83,
   "id": "98122f4c-36ed-409e-8085-1ff578dda41f",
   "metadata": {},
   "outputs": [],
   "source": [
    "class MaxPositionalList(PositionalList):\n",
    "    def max(self):\n",
    "        if len(self) == 0:\n",
    "            raise Error(\"positional list is empty\")\n",
    "        position = self.first()\n",
    "        max = position.element()\n",
    "        for element in self:\n",
    "            if element > max:\n",
    "                max = element\n",
    "        return max"
   ]
  },
  {
   "cell_type": "code",
   "execution_count": 84,
   "id": "97864376-3ade-42f9-9e76-2842e9a6f81c",
   "metadata": {},
   "outputs": [
    {
     "name": "stdout",
     "output_type": "stream",
     "text": [
      "3.4143226876815245\n",
      "8.120046400508539\n",
      "7.143283718358152\n",
      "8.032230356774768\n",
      "9.067055719779177\n",
      "6.294458863669172\n",
      "9.505172342673944\n",
      "8.611715005203855\n",
      "3.877536134069283\n",
      "6.269482623845665\n",
      "max number inserted is 9.505172342673944\n"
     ]
    }
   ],
   "source": [
    "import random\n",
    "\n",
    "queue = MaxPositionalList()\n",
    "for i in range(10):\n",
    "    rand_number = 10* (random.random())\n",
    "    queue.add_first(rand_number)\n",
    "    print(rand_number)\n",
    "\n",
    "print(f\"max number inserted is {queue.max()}\")"
   ]
  },
  {
   "cell_type": "markdown",
   "id": "b8244bf4-892c-4e5a-b0ac-3426367442ba",
   "metadata": {},
   "source": [
    "## Question 13\n",
    "```Update the PositionalList class to support an additional method find(e), which returns the position of the (first occurrence of ) element e in the list (or None if not found).```"
   ]
  },
  {
   "cell_type": "code",
   "execution_count": 85,
   "id": "c93802d1-3011-4575-9224-c130e29fc428",
   "metadata": {},
   "outputs": [],
   "source": [
    "class findPositionalList(PositionalList):\n",
    "    def find(self, obj):\n",
    "        if len(self) == 0:\n",
    "            raise Error(\"queue is empty\")\n",
    "        cursor = self.first()\n",
    "        while cursor is not None:\n",
    "            if cursor.element() == obj:\n",
    "                return cursor\n",
    "            cursor = self.after(cursor)"
   ]
  },
  {
   "cell_type": "code",
   "execution_count": 86,
   "id": "e88d9fae-d833-43aa-9460-75985a59362a",
   "metadata": {},
   "outputs": [
    {
     "data": {
      "text/plain": [
       "5"
      ]
     },
     "execution_count": 86,
     "metadata": {},
     "output_type": "execute_result"
    }
   ],
   "source": [
    "queue = findPositionalList()\n",
    "for i in range(10):\n",
    "    queue.add_first(i)\n",
    "\n",
    "pointer = queue.find(5)\n",
    "\n",
    "pointer.element()"
   ]
  },
  {
   "cell_type": "markdown",
   "id": "02648124-aae9-4f02-939e-c813ab9dd7bf",
   "metadata": {},
   "source": [
    "## Question 14\n",
    "```Repeat the previous process using recursion. Your method should not contain any loops. How much space does your method use in addition to  the space used for L?```"
   ]
  },
  {
   "cell_type": "code",
   "execution_count": 88,
   "id": "0105b01a-9e65-45b0-b742-35a7dfc2505d",
   "metadata": {},
   "outputs": [],
   "source": [
    "class findPositionalList(PositionalList):\n",
    "    def find(self, obj, cursor = None):\n",
    "        if len(self) == 0:\n",
    "            raise Error(\"queue is empty\")\n",
    "        if not cursor:\n",
    "            cursor = self.first()\n",
    "        if cursor.element() == obj:\n",
    "            return cursor\n",
    "        elif cursor == self.last():\n",
    "            return None\n",
    "        else:\n",
    "            cursor =  self.after(cursor)\n",
    "            return self.find(obj, cursor)"
   ]
  },
  {
   "cell_type": "code",
   "execution_count": 89,
   "id": "d4a1a21f-91a8-4e91-8c9a-b26d4ba1a0bb",
   "metadata": {},
   "outputs": [
    {
     "data": {
      "text/plain": [
       "5"
      ]
     },
     "execution_count": 89,
     "metadata": {},
     "output_type": "execute_result"
    }
   ],
   "source": [
    "queue = findPositionalList()\n",
    "for i in range(10):\n",
    "    queue.add_first(i)\n",
    "\n",
    "pointer = queue.find(5)\n",
    "\n",
    "pointer.element()"
   ]
  },
  {
   "cell_type": "markdown",
   "id": "79cc4803-75a7-48b1-80e6-8abb6b34ed0d",
   "metadata": {},
   "source": [
    "## Question 15\n",
    "```Provide support for a reversed method of the PositionalList class that is similar to the given iter , but that iterates the elements in reversed order.```"
   ]
  },
  {
   "cell_type": "code",
   "execution_count": 94,
   "id": "524d277e-e106-45b5-b1f7-1eb57e06ef91",
   "metadata": {},
   "outputs": [],
   "source": [
    "class ReverseIterPositionalList(PositionalList):\n",
    "    def reverse_iter(self):\n",
    "        cursor = self.last()\n",
    "        while cursor != self.first():\n",
    "            yield cursor.element()\n",
    "            cursor = self.before(cursor)"
   ]
  },
  {
   "cell_type": "code",
   "execution_count": 95,
   "id": "81511b7b-a602-4d1d-9474-3112bc46586b",
   "metadata": {},
   "outputs": [
    {
     "name": "stdout",
     "output_type": "stream",
     "text": [
      "9\n",
      "8\n",
      "7\n",
      "6\n",
      "5\n",
      "4\n",
      "3\n",
      "2\n",
      "1\n"
     ]
    }
   ],
   "source": [
    "queue = ReverseIterPositionalList()\n",
    "for i in range(10):\n",
    "    queue.add_last(i)\n",
    "\n",
    "for i in queue.reverse_iter():\n",
    "    print(i)"
   ]
  },
  {
   "cell_type": "markdown",
   "id": "35435c69-d6fb-439c-81f5-73e17337c19b",
   "metadata": {},
   "source": [
    "## Question 16\n",
    "```Describe an implementation of the PositionalList methods add last and add before realized by using only methods in the set {is empty, first, last, prev, next, add after, and add first}.```"
   ]
  }
 ],
 "metadata": {
  "kernelspec": {
   "display_name": "Python 3 (ipykernel)",
   "language": "python",
   "name": "python3"
  },
  "language_info": {
   "codemirror_mode": {
    "name": "ipython",
    "version": 3
   },
   "file_extension": ".py",
   "mimetype": "text/x-python",
   "name": "python",
   "nbconvert_exporter": "python",
   "pygments_lexer": "ipython3",
   "version": "3.11.7"
  }
 },
 "nbformat": 4,
 "nbformat_minor": 5
}
