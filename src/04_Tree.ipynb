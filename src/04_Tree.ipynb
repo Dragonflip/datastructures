{
 "cells": [
  {
   "cell_type": "markdown",
   "id": "85490de7-d03c-4b83-b552-c73e89402ec2",
   "metadata": {},
   "source": [
    "# General Tree"
   ]
  },
  {
   "cell_type": "markdown",
   "id": "f2110b9c-c58f-485c-9e4a-7b0159d2fb74",
   "metadata": {},
   "source": [
    "Tree is an abstract data type that stores elements hierarchically. With except at the **top element**, each element has a **parent element** and zero or more **children elements**. We denote the top element the **root** of the tree.\n",
    "\n",
    "![Tree example](../img/trees/tree-img.png)\n",
    "\n",
    "we define a **tree** as a set of **nodes** storing elements such that the nodes have a **parent-child** relationship that satisfies:\n",
    "- If a tree is nonempty, it has a special node, called the **root** that has no parent.\n",
    "- Each node v of Tree different from the root has a unique **parent**.\n",
    "- Every node with a **parent** w is a **child** of w.\n",
    "\n",
    "2 nodes that are children of the same parent are **siblings**. if a node has no **children** it is a **external node** or **leaves**, if a node has at least one **children** it is called a **internal node**."
   ]
  },
  {
   "cell_type": "markdown",
   "id": "9bba4fd9-0af6-4773-82db-9ed2b5a078c4",
   "metadata": {},
   "source": [
    "## Ordered Tree"
   ]
  },
  {
   "cell_type": "markdown",
   "id": "b1e1f470-5246-495c-a3c7-9727a4593afd",
   "metadata": {},
   "source": [
    "An ordered tree, also known as a rooted tree with ordered children, is a hierarchical structure where each node has a specific order among its children. This order is typically significant and provides additional information about the relationships and sequencing within the tree.\n",
    "\n",
    "The concept of ordered trees is fundamental in understanding and designing algorithms for operations such as traversal, insertion, and deletion. By enforcing a specific order among children, ordered trees facilitate efficient searching and manipulation of data, making them indispensable in various computational tasks."
   ]
  },
  {
   "cell_type": "markdown",
   "id": "a1def479-e183-4af2-9a46-dfc9442b7bd0",
   "metadata": {},
   "source": [
    "### Tree Abstract Data Type (Tree ADT)"
   ]
  },
  {
   "cell_type": "markdown",
   "id": "bf09e57b-f557-45db-93b5-53d6272a3771",
   "metadata": {},
   "source": [
    "#### Position\n",
    "- element(): return the element stored at position p.\n",
    "#### Tree\n",
    "- root(): Return the position of the root of tree or None if empty.\n",
    "- is_root(p): Return True if position is the root of Tree.\n",
    "- parent(p): Return the position of the parent of position p, or None if p is the root.\n",
    "- num_children(p): Return the number of childrens of a position p.\n",
    "- children(p): Generate an Iterator of the children of position p.\n",
    "- is_leaf(p): Reutnr True if p is a leaf of Tree.\n",
    "- len(): Return the number of nodes of a Tree.\n",
    "- is_empty(): Return True if a Tree does not contain any positions\n",
    "- positions(): Generate an Iterator of all position of Tree.\n",
    "- iter(): Generate an Iterator of all element stores within Tree.\n",
    "\n",
    "Any of the above methods that accepts a position as an argument should generate a ValueError if that position is not part of Tree."
   ]
  },
  {
   "cell_type": "code",
   "execution_count": 3,
   "id": "cdec83d8-6eac-4027-a443-77a6c7f2decd",
   "metadata": {},
   "outputs": [],
   "source": [
    "from abc import ABC, abstractmethod\n",
    "\n",
    "\n",
    "class AbstractTree(ABC):\n",
    "    \n",
    "    class Position(ABC):\n",
    "        @abstractmethod\n",
    "        def element(self):\n",
    "            ...\n",
    "\n",
    "        @abstractmethod\n",
    "        def __eq__(self, other):\n",
    "            ...\n",
    "\n",
    "        def __ne__(self, other):\n",
    "            return not (self == other)\n",
    "\n",
    "        \n",
    "    @abstractmethod\n",
    "    def __iter__(self):\n",
    "        ...\n",
    "        \n",
    "    @abstractmethod\n",
    "    def __len__(self):\n",
    "        ...\n",
    "    \n",
    "    @abstractmethod\n",
    "    def root(self):\n",
    "        ...\n",
    "        \n",
    "    @abstractmethod\n",
    "    def positions(self):\n",
    "        ...\n",
    "        \n",
    "    @abstractmethod\n",
    "    def is_root(self, p):\n",
    "        ...\n",
    "        \n",
    "    @abstractmethod\n",
    "    def parent(self, p):\n",
    "        ...\n",
    "        \n",
    "    @abstractmethod\n",
    "    def num_children(self, p):\n",
    "        ...\n",
    "        \n",
    "    @abstractmethod\n",
    "    def children(self, p):\n",
    "        ...\n",
    "        \n",
    "    @abstractmethod\n",
    "    def is_leaf(self, p):\n",
    "        ...\n",
    "        \n",
    "    @abstractmethod\n",
    "    def is_empty(self, p):\n",
    "        ...\n",
    "\n",
    "        "
   ]
  },
  {
   "cell_type": "markdown",
   "id": "e3f95b7f-8b1b-496e-928c-96b9bb7e714e",
   "metadata": {},
   "source": [
    "### Computing Depth and Height"
   ]
  },
  {
   "cell_type": "markdown",
   "id": "462bc848-772c-4ec0-bfb3-31d5fd7091ac",
   "metadata": {},
   "source": [
    "#### **Depth**"
   ]
  },
  {
   "cell_type": "markdown",
   "id": "dec743c9-f42f-4597-af39-9118bbf54b52",
   "metadata": {},
   "source": [
    "- **depth**: The depth of p is the number of ancestors of p, excluding p itself.\n",
    "    - If p is the root, then the depth is 0.\n",
    "    - Otherwise, the depth of p is one plus the depth of the parent of p.\n",
    "\n"
   ]
  },
  {
   "cell_type": "code",
   "execution_count": 9,
   "id": "1d74b898-d1e9-4024-b2e8-6bd09e601f0d",
   "metadata": {},
   "outputs": [],
   "source": [
    "def depth(tree, p):\n",
    "    if tree.is_root(p):\n",
    "        return 0\n",
    "    else:\n",
    "        return 1 + tree.depth(tree.parent(p))"
   ]
  },
  {
   "cell_type": "markdown",
   "id": "bf4b822b-96ad-4609-9111-7a4e3ad2960a",
   "metadata": {},
   "source": [
    "![Tree depth](../img/trees/tree_depth.png)"
   ]
  },
  {
   "cell_type": "markdown",
   "id": "805d3afb-447e-4563-a705-4ed6f7a69277",
   "metadata": {},
   "source": [
    "#### **Height**"
   ]
  },
  {
   "cell_type": "markdown",
   "id": "ddd6e912-bbbd-451e-a68e-498c628470bd",
   "metadata": {},
   "source": [
    "- **height**: The height of a position p in a tree T is also defined recursively:\n",
    "    -  If p is a leaf, then the height of p is 0.\n",
    "    -  Otherwise, the height of p is one more than the maximum of the heights of p’s children.\n",
    "\n",
    "Obs: The height of a non empty Tree is the height of its root Tree."
   ]
  },
  {
   "cell_type": "code",
   "execution_count": 10,
   "id": "98307d75-9416-4d59-907f-6ef3ec661664",
   "metadata": {},
   "outputs": [],
   "source": [
    "def height(tree, p):\n",
    "    if tree.is_leaf(p):\n",
    "        return 0\n",
    "    else:\n",
    "        return 1 + max(tree.height(c) for c in tree.children(p))"
   ]
  },
  {
   "cell_type": "markdown",
   "id": "21abeb22-9ba8-416a-836d-9412dc4d5d5f",
   "metadata": {},
   "source": [
    "![Tree depth](../img/trees/tree_height.png)"
   ]
  },
  {
   "cell_type": "markdown",
   "id": "8a887860-b68d-49f7-ae12-7a0bc21aa323",
   "metadata": {},
   "source": [
    "#### WIP (Time complexity of height and depth operations)"
   ]
  },
  {
   "cell_type": "markdown",
   "id": "d16ed6d1-a2f3-40bc-b60a-3f3de4b26024",
   "metadata": {},
   "source": [
    "# Binary Tree"
   ]
  },
  {
   "cell_type": "markdown",
   "id": "ba99fef7-fffd-4458-9c2b-1d440a49dacb",
   "metadata": {},
   "source": [
    "A **binary Tree** is a tree that respects the following properties:\n",
    "- Every **node** has t most two **children**.\n",
    "- Each **child node** is labeled as being either a **left child** or **right child**.\n",
    "- A **left child** precedes a **right child** in the order of children of a node.\n",
    "\n",
    "A binary tree is **proper** if each node has either zero or two children."
   ]
  },
  {
   "cell_type": "markdown",
   "id": "e397ca85-322c-4217-82cb-6c6e0cad4705",
   "metadata": {},
   "source": [
    "##  Binary Tree Abstract Data Type (Binary Tree ADT)"
   ]
  },
  {
   "cell_type": "markdown",
   "id": "e16718e3-0c22-49af-bef4-a8c6c44afaf5",
   "metadata": {},
   "source": [
    "A Binary tree ADT is a specialization of a Tree that supports three additional accessor methods:\n",
    "- left(p): Return the position that represents the left child of p, or None if p has no left child.\n",
    "- right(p): Return the position that represents the right child of p, or None if p has no right child.\n",
    "- sibling(p): Return the position that represents the sibling of p, or None if p has no sibling."
   ]
  },
  {
   "cell_type": "code",
   "execution_count": 5,
   "id": "30115e92-e3d6-449a-8d4e-d1ca05b3ef06",
   "metadata": {},
   "outputs": [],
   "source": [
    "class BinaryTree(AbstractTree):\n",
    "    @abstractmethod\n",
    "    def left(self, p):\n",
    "        ...\n",
    "\n",
    "    @abstractmethod\n",
    "    def right(self, p):\n",
    "        ...\n",
    "\n",
    "    def sibling(self, p):\n",
    "        parent = self.parent(p)\n",
    "        if parent is None:\n",
    "            return None\n",
    "        else:\n",
    "            if p == self.left(parent):\n",
    "                return self.right(parent)\n",
    "            else:\n",
    "                return self.left(parent)\n",
    "\n",
    "    def children(self, p):\n",
    "        if self.left(p) is not None:\n",
    "            yield self.left(p)\n",
    "        if self.right(p) is not None:\n",
    "            yield self.right(p)"
   ]
  },
  {
   "cell_type": "markdown",
   "id": "c8a48e11-cd8c-46b5-9c4b-4aa7067aa9c8",
   "metadata": {},
   "source": [
    "#### Property of Binay Trees"
   ]
  },
  {
   "cell_type": "markdown",
   "id": "865cdc9e-13ed-4b06-a479-87069b0e61fc",
   "metadata": {},
   "source": [
    "We denote the set of all nodes of a tree T at the same depth d as level d of T.\n",
    "\n",
    "![Binary Tree LVL](../img/trees/tree_level.png)"
   ]
  },
  {
   "cell_type": "markdown",
   "id": "9635deda-f9c8-49f8-b4d3-961432975121",
   "metadata": {},
   "source": [
    "##### Property 1\n",
    "\n",
    "In a binary tree, level 0 has at most one node (the root), level 1 has at most two nodes (the children of the root), level 2 has at most\n",
    "four nodes, and so on (In general, level d has at most $2^d$ nodes).\n",
    "\n",
    "$n_d$ = max number of nodes per level\n",
    "\n",
    "d = level of tree\n",
    "\n",
    "$n = 2^d$"
   ]
  },
  {
   "cell_type": "markdown",
   "id": "af2366e5-ade9-4d3a-b3d6-cd90a9edea06",
   "metadata": {
    "jp-MarkdownHeadingCollapsed": true
   },
   "source": [
    "##### Property 2\n",
    "\n",
    "In a binary tree, the max number of total nodes is a sum of max number of nodes per level.\n",
    "\n",
    "N = max number of nodes in a tree\n",
    "\n",
    "h = height of a tree\n",
    "\n",
    "l = lvl of a tree\n",
    "\n",
    "N = $\\sum_{l=0}^h 2^l$\n",
    "\n",
    "N = $\\frac{2^h -1}{2-1}$\n",
    "\n",
    "N = $2^h -1$"
   ]
  },
  {
   "cell_type": "markdown",
   "id": "0ae56080-4600-4996-93da-95c81c18b8b9",
   "metadata": {},
   "source": [
    "##### Property 3\n",
    "\n",
    "In a binary tree with N nodes, the minimum possible height is $  \\log_2(N+1) $\n",
    "\n",
    "N = $2^h - 1$\n",
    "\n",
    "N + 1 = $ 2^h $\n",
    "\n",
    "h = $\\log_2(N + 1)$"
   ]
  },
  {
   "cell_type": "markdown",
   "id": "866de5bd-f118-45df-9f7d-cfabeec1265a",
   "metadata": {},
   "source": [
    "# Implementing Trees"
   ]
  },
  {
   "cell_type": "markdown",
   "id": "44ff3478-c863-47a1-9da8-81259a1d0c15",
   "metadata": {},
   "source": [
    "## Linked Structure for Binary Trees"
   ]
  },
  {
   "cell_type": "markdown",
   "id": "65072c08-0fe4-4181-b560-c12e83d67aac",
   "metadata": {},
   "source": [
    "A natural way to realize a binary tree T is to use a linked structure. The tree itself maintains an instance variable storing a reference to the root node (if any), and a variable, called size, that represents the overall number of nodes of T.\n",
    "\n",
    "![Linked Binanry Tree](../img/trees/linked_binary_tree.png)"
   ]
  },
  {
   "cell_type": "markdown",
   "id": "a268eef3-5d14-41d6-b9ce-e1e82d7dcd8e",
   "metadata": {},
   "source": [
    "For linked binary trees, a reasonable set of update methods to support for general usage are the following:\n",
    "- add_root(e): create a root for an empty tree, storing ```e``` as the element, and return the position of that root; an error occurs if the tree is not empty\n",
    "- add_left(p, e): create a new node storing element ```e```, link the node as the left child of position p, and return the resulting position; an error occurs if p already has a left child.\n",
    "- add_right(p, e): create a new node storing element ```e```, link the node as the right hcild of position p, and return the resulting position; an error occurs if p already has a right child.\n",
    "- replace(p, e): Replace the element stores at position p with element ```e```, and return the previiously stored element.\n",
    "- delete(p): Remove the node at position p, replacing it with its child, if any, and return the elmeent that had been stored at p; an error occurs if p has two children.\n",
    "- attach(p, T1, T2): Attach the internal structure of trees T1 and T2, as the left and right subtrees of leaf position p of T, and reset T1 and T2 to empty trees; an error condition occurs if p is not a leaf."
   ]
  },
  {
   "cell_type": "code",
   "execution_count": 10,
   "id": "15588e92-7144-4c76-a9eb-f385a95cdbbd",
   "metadata": {},
   "outputs": [],
   "source": [
    "class LinkedBinaryTree(BinaryTree):\n",
    "    \n",
    "    class _Node:\n",
    "        __slots__ = '_element', '_parent', '_left', '_right'\n",
    "        def __init__(self, element, parent=None, left=None, right=None):\n",
    "            self._element = element\n",
    "            self._parent = parent\n",
    "            self._left = left\n",
    "            self._right = right\n",
    "            \n",
    "    class _Position(BinaryTree.Position):\n",
    "        def __init__(self, container, node):\n",
    "            self._container = container\n",
    "            self._node = node\n",
    "            \n",
    "        def element(self):\n",
    "            return self._element\n",
    "\n",
    "        def __eq__(self):\n",
    "            return type(other) is type(self) and other._node is self._node\n",
    "\n",
    "    def _validate(self, p):\n",
    "        if not isinstance(p, self.Position):\n",
    "            raise TypeError(\"p must be proper Position Type\")\n",
    "        if p._container is not self:\n",
    "            raise ValueError(\"p does not belong to this container\")\n",
    "        if p._node._parent is p._node:\n",
    "            raise ValueError(\"p is no longer valid\")\n",
    "        return p._node\n",
    "\n",
    "    def _make_position(self, node):\n",
    "        return self.Position(self, node) if node is not None else None\n",
    "\n",
    "    def __init__(self):\n",
    "        self._root = None\n",
    "        self._size = 0\n",
    "\n",
    "    def __len__(self):\n",
    "        return self._size\n",
    "\n",
    "    def root(self):\n",
    "        return self._make_position(self._root)\n",
    "\n",
    "    def parent(self, p):\n",
    "        node = self._validate(p)\n",
    "        return self._make_position(node._parent)\n",
    "\n",
    "    def left(self, p):\n",
    "        node = self._validate(p)\n",
    "        return self._make_position(node._left)\n",
    "\n",
    "    def right(self, p):\n",
    "        node = self._validate(p)\n",
    "        return self._make_position(node._right)\n",
    "\n",
    "    def num_children(self, p):\n",
    "        node = self._validate(p)\n",
    "        count = 0\n",
    "        if node._left is not None:\n",
    "            count += 1\n",
    "        if node._right is not None:\n",
    "            count += 1\n",
    "        return count\n",
    "\n",
    "    def _add_root(self, e):\n",
    "        if self._root is not None: raise ValueError(\"Root Exists\")\n",
    "        self._size = 1\n",
    "        self._root = self._Node(e)\n",
    "        return self._make_position(self._root)\n",
    "\n",
    "    def _add_left(self, p, e):\n",
    "        node = self._validate(p)\n",
    "        if node._left is not None: raise ValueError(\"Left child Exists\")\n",
    "        self._size += 1\n",
    "        node._left = self._Node(e, node)\n",
    "        return self._make_position(node._left)\n",
    "\n",
    "    def _add_right(self, p, e):\n",
    "        node = self._validate(p)\n",
    "        if node._right is not None: raise ValueError(\"right child Exists\")\n",
    "        self._size += 1\n",
    "        node._right = self._Node(e, node)\n",
    "        return self._make_position(node._right)\n",
    "\n",
    "    def _replace(self, p, e):\n",
    "        node = self._validate(p)\n",
    "        old = node._element\n",
    "        node._element = e\n",
    "        return old\n",
    "\n",
    "    def _delete(self, p):\n",
    "        node = self._validate(p)\n",
    "        if self.num_children(p) == 2: raise ValueError(\"p has two chihldren\")\n",
    "        child = node._left if node._left else node._right\n",
    "        if child is not None:\n",
    "            child._parent = node._parent\n",
    "        if node is self._root:\n",
    "            self._root = child\n",
    "        else:\n",
    "            parent = node._parent\n",
    "            if node is parent._left:\n",
    "                parent._left = child\n",
    "            else:\n",
    "                parent._righht = child\n",
    "        self._size -= 1\n",
    "        node._parent = node\n",
    "        return node._element\n",
    "\n",
    "    def _attach(self, p, t1, t2):\n",
    "        node = self._validate(p)\n",
    "        if not self.is_leaf(p): raise ValueError('position must be leaf')\n",
    "        if not type(self) is type(t1) is type(t2):\n",
    "            raise TypeError(\"Tree types must match\")\n",
    "        self._size += len(t1) + len(t2)\n",
    "        if not t1.is_empty():\n",
    "            t1._root._parent = node\n",
    "            node._left = t1._root\n",
    "            t1._root = None\n",
    "            t1._size = 0\n",
    "        if not t2.is_empty():\n",
    "            t2._root._parent = node\n",
    "            node._right = t2._root\n",
    "            t2._root = None\n",
    "            t2._size = 0"
   ]
  },
  {
   "cell_type": "markdown",
   "id": "b8288ade-0e57-46c0-94ee-204d91c08b22",
   "metadata": {},
   "source": [
    "## Array-Based Structure for Binary Trees"
   ]
  },
  {
   "cell_type": "markdown",
   "id": "8e7185d6-eb7e-41ea-a083-dc88da354523",
   "metadata": {},
   "source": [
    "An alternative representation of a binary tree T is based on a way of numbering the positions of T . For every position p of T , let f (p) be the integer defined as follows.\n",
    "- If p is the root of T , then f (p) = 0.\n",
    "- If p is the left child of position q, then f (p) = 2 f (q) + 1.\n",
    "- If p is the right child of position q, then f (p) = 2 f (q) + 2.\n",
    "\n",
    "The numbering function f is known as a level numbering of the positions in a binary tree T , for it numbers the positions on each level of T in increasing order from left to right.\n",
    "\n",
    "![Array Based Binary Tree](../img/trees/array_based_binary_tree.png)"
   ]
  },
  {
   "cell_type": "markdown",
   "id": "b2f4e36f-740b-4cb2-9e21-b234e7466e31",
   "metadata": {},
   "source": [
    "# Tree Traversal Algorithms"
   ]
  },
  {
   "cell_type": "markdown",
   "id": "665719f9-1493-4e5a-928f-105162582a05",
   "metadata": {},
   "source": [
    "### Pre Order"
   ]
  },
  {
   "cell_type": "markdown",
   "id": "0264c75d-17c5-4f8a-8003-061a37979a6d",
   "metadata": {},
   "source": [
    "In a preorder traversal of a tree T , the root of T is visited first and then the subtrees rooted at its children are traversed recursively. If the tree is ordered, then the subtrees are traversed according to the order of the children.\n",
    "\n",
    "![Pre Order Traversal](../img/trees/pre_order_traversal.png)"
   ]
  },
  {
   "cell_type": "code",
   "execution_count": 6,
   "id": "b06f9323-1045-45fb-b7b9-a9001b6dc0cd",
   "metadata": {},
   "outputs": [],
   "source": [
    "...\n",
    "#starts the subtree_preorder on root node\n",
    "def preorder(self):\n",
    "    if not self.is_empty():\n",
    "        for p in self._subtree_preorder(self.root()):\n",
    "            yield p\n",
    "\n",
    "#return the node value, then recursivaly apply preorder to all childrens of this node\n",
    "def _subtree_preorder(self, p):\n",
    "    self._validate(p)\n",
    "    yield p\n",
    "    for c in self.children(p):\n",
    "        for other in self._subtree_preorder(c):\n",
    "            yield other\n",
    "        "
   ]
  },
  {
   "cell_type": "markdown",
   "id": "e024b142-532f-48d5-b99c-a65ce40e686b",
   "metadata": {},
   "source": [
    "### Post Order"
   ]
  },
  {
   "cell_type": "markdown",
   "id": "6f586fe3-2509-4ff0-af3d-0abd944c3971",
   "metadata": {},
   "source": [
    "In some sense, this algorithm can be viewed as the opposite of the preorder traversal, because it recursively traverses the subtrees rooted at the children of the root first, and then visits the root.\n",
    "\n",
    "![Post Order Traversal](../img/trees/post_order_traversal.png)"
   ]
  },
  {
   "cell_type": "code",
   "execution_count": 5,
   "id": "a666737e-d82e-463c-88e5-faa7605ee4d4",
   "metadata": {},
   "outputs": [],
   "source": [
    "...\n",
    "#starts the subtree_postorder on root node\n",
    "def preorder(self):\n",
    "    if not self.is_empty():\n",
    "        for p in self._subtree_postorder(self.root()):\n",
    "            yield p\n",
    "\n",
    "#recursivaly apply postorder to all children of a node, then return this own value\n",
    "def _subtree_postorder(self, p):\n",
    "    self._validate(p)\n",
    "    for c in self.children(p):\n",
    "        for other in self._subtree_preorder(c):\n",
    "            yield other\n",
    "    yield p"
   ]
  },
  {
   "cell_type": "markdown",
   "id": "89e0bf9a-d7f2-4918-ad80-24b3b3863b22",
   "metadata": {},
   "source": [
    "### Breadth-First"
   ]
  },
  {
   "cell_type": "markdown",
   "id": "ef057ae8-a577-485d-99b8-bae67d4b3f05",
   "metadata": {},
   "source": [
    "with this algorithm we visit all positions at depth d before we visit the position at depth ```d+1`` (return all values in a level before go to deeper level)\n",
    "\n",
    "![Breadth First Traversal](../img/trees/breadth_first_traversal.png)\n"
   ]
  },
  {
   "cell_type": "code",
   "execution_count": 7,
   "id": "88b0d78a-72b9-4306-86d0-5f7363b1a603",
   "metadata": {},
   "outputs": [],
   "source": [
    "from queue import Queue\n",
    "\n",
    "...\n",
    "def breadfirst(self):\n",
    "    if not self.is_empty():\n",
    "        fringe = Queue()\n",
    "        fringe.enqueue(self.root())\n",
    "        while not fringe.is_empty():\n",
    "            p = fringe.dequeue()\n",
    "            yield p\n",
    "            for c in self.children(p):\n",
    "                fringe.enqueue(c)"
   ]
  },
  {
   "cell_type": "markdown",
   "id": "39e5bb6f-d01e-48f3-a4b3-29d62e662e77",
   "metadata": {},
   "source": [
    "### Inorder"
   ]
  },
  {
   "cell_type": "markdown",
   "id": "907d5d90-a3ba-406f-97c5-29d2ea7c33c3",
   "metadata": {},
   "source": [
    "The inorder traversal algorithm is a fundamental approach tailored for binary trees. During this traversal, we navigate through the tree by first visiting the left child of a node, then the node itself, and finally the right child. This sequence ensures that we systematically explore every element in a structured manner, making it a crucial technique in efficiently processing binary tree data structures.\n",
    "\n",
    "![Inorder Traversal](../img/trees/inorder_traversal.png)"
   ]
  },
  {
   "cell_type": "code",
   "execution_count": 8,
   "id": "a729bb28-2183-43ec-a404-e82201e800ca",
   "metadata": {},
   "outputs": [],
   "source": [
    "...\n",
    "# starts the inorder recusive function to the root node\n",
    "def inorder(self):\n",
    "    if not self.is_empty():\n",
    "        for p in self._subtree_inorder(self.root()):\n",
    "            yield p\n",
    "            \n",
    "#recursivaly apply inorder to the left child, return the node value then recursivaly apply inorder to right child\n",
    "def _subtree_inorder(self, p):\n",
    "    self._validate(p)\n",
    "    if p.left() is not None:\n",
    "        self._subtree_inorder(p.left())\n",
    "    yield p\n",
    "    if p.right() is not None:\n",
    "        self._subtree_inorder(p.right())"
   ]
  }
 ],
 "metadata": {
  "kernelspec": {
   "display_name": "Python 3 (ipykernel)",
   "language": "python",
   "name": "python3"
  },
  "language_info": {
   "codemirror_mode": {
    "name": "ipython",
    "version": 3
   },
   "file_extension": ".py",
   "mimetype": "text/x-python",
   "name": "python",
   "nbconvert_exporter": "python",
   "pygments_lexer": "ipython3",
   "version": "3.11.7"
  }
 },
 "nbformat": 4,
 "nbformat_minor": 5
}
