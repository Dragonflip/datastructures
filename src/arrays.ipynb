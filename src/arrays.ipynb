{
 "cells": [
  {
   "cell_type": "markdown",
   "id": "2efdb7ff-6a98-4295-8134-1a5aa1510c4e",
   "metadata": {},
   "source": [
    "## Low-Level Arrays\n"
   ]
  },
  {
   "cell_type": "markdown",
   "id": "147569f2-5bb7-4402-8995-ac8d325b7eb0",
   "metadata": {},
   "source": [
    "An array is a group of related variables stored one after another in a contiguous portion of computer memory. We can use a string as an example, which Python stores as a sequence of individual characters.\n",
    "\n",
    "The benefit of using this type of data structure is the ability to retrieve any information in constant time (O(1)). By knowing the memory location at which the array starts and the position of the desired information, you can simply calculate the memory address using the formula `start + (index * element size)` (Of course, the arithmetic for calculating memory addresses within an array can\n",
    "be handled automatically).\n",
    "\n",
    "![String Example](../img/arrays/string_example.png)\n",
    "*Example of how a string is stored in memory as an array of characters.*"
   ]
  },
  {
   "cell_type": "markdown",
   "id": "68ecb258-5b5b-4e3b-b16f-5445ab65c837",
   "metadata": {
    "jp-MarkdownHeadingCollapsed": true
   },
   "source": [
    "### Referential Arrays"
   ]
  },
  {
   "cell_type": "markdown",
   "id": "1510b872-6573-4f1a-985e-5a160baa3e60",
   "metadata": {},
   "source": [
    "referential arrays store the bits that represents the reference address memory of the data. \n",
    "\n",
    "\n",
    "In scenarios where we don't know the exact memory requirements for the variables we want to store in an array, allocating maximum memory for each variable would be inefficient and wasteful. Instead, we can utilize referential arrays, where we store references to the memory addresses where these variables are stored.\n",
    "\n",
    "![Referential Array Example](../img/arrays/string_reference_array.png)\n",
    "*Example illustrating a referential array storing references to strings.*"
   ]
  },
  {
   "cell_type": "markdown",
   "id": "79a90c55-779c-460a-a302-edf9703369e6",
   "metadata": {},
   "source": [
    "### Compact Arrays"
   ]
  },
  {
   "cell_type": "markdown",
   "id": "a5b29de0-3ef1-4bd7-9246-a39bba883825",
   "metadata": {},
   "source": [
    "compact arrays store the bits that represents the primary data. \n",
    "\n",
    "They have several advantages over referential structures in terms of computing performance, most significantly, the overall memory usage will be much lower for a compact structure because there is no overhead devoted to the explicit storage of the sequence of memory references.\n",
    "\n",
    "![Compact Array Example](../img/arrays/string_compact_array.png)\n",
    "\n",
    "*Example illustrating a compact array storing references to strings.*"
   ]
  },
  {
   "cell_type": "markdown",
   "id": "cb8baa0a-1064-48f7-9390-f22b2cd95534",
   "metadata": {},
   "source": [
    "#  Dynamic Arrays"
   ]
  },
  {
   "cell_type": "markdown",
   "id": "a78c0b3c-b05a-47b6-bc86-c82505d4e3a9",
   "metadata": {},
   "source": [
    "When creating a low-level array in a computer system, the precise size of that array must be explicitly declared in order for the system to properly allocate a consecutive piece of memory for its storage.\n",
    "\n",
    "The first key to providing the semantics of a dynamic array is that a dynamic array instance maintains an underlying array that often has greater capacity than the current length of the dynamic array. For example, if a user create an dynamic array with 10 elements, we can create an underlying array with 15 elements size (5 extra element sizes), than facilitating the user to append new itens to their dynamic array. \n",
    "\n",
    "If a user continues to append elements to a list, any reserved capacity will eventually be exhausted. In that case, the class requests a new, larger array from the system, and initializes the new array so that its prefix matches that of the existing smaller array."
   ]
  },
  {
   "cell_type": "markdown",
   "id": "11d32be5-08b4-4a03-ae97-b015a2366a50",
   "metadata": {},
   "source": [
    "### Code Fragment 5.1"
   ]
  },
  {
   "cell_type": "markdown",
   "id": "a8c497cb-bd8b-419b-be6a-e848f85b76af",
   "metadata": {},
   "source": [
    "An experiment to investigate the correlation between the length of a list and its underlying size in Python.\n",
    "\n",
    "In this experiment, we observe that even an empty list consumes a certain amount of memory. Additionally, we note that the length of the list does not increase linearly as elements are added. Instead, the length only increases when attempting to insert more elements than the current capacity of the underlying array. At this point, a new underlying array is created with a larger capacity, and the elements are transferred to it. This process continues as more elements are added to the list."
   ]
  },
  {
   "cell_type": "code",
   "execution_count": 1,
   "id": "dd334628-3eeb-4a07-9d2c-27d688b45656",
   "metadata": {},
   "outputs": [
    {
     "name": "stdout",
     "output_type": "stream",
     "text": [
      "Length: 0; Size in bytes: 56\n",
      "Length: 1; Size in bytes: 88\n",
      "Length: 2; Size in bytes: 88\n",
      "Length: 3; Size in bytes: 88\n",
      "Length: 4; Size in bytes: 88\n",
      "Length: 5; Size in bytes: 120\n",
      "Length: 6; Size in bytes: 120\n",
      "Length: 7; Size in bytes: 120\n",
      "Length: 8; Size in bytes: 120\n",
      "Length: 9; Size in bytes: 184\n"
     ]
    }
   ],
   "source": [
    "#Code Fragment 5.1\n",
    "import sys\n",
    "\n",
    "\n",
    "data = []\n",
    "for k in range(10):\n",
    "    a = len(data)\n",
    "    b = sys.getsizeof(data)\n",
    "    print(f\"Length: {a}; Size in bytes: {b}\")\n",
    "    data.append(None)\n",
    "    "
   ]
  },
  {
   "cell_type": "markdown",
   "id": "b0f51aa7-fb80-454e-bbd4-433fe528d5ae",
   "metadata": {},
   "source": [
    "## Creating a Dynamic Array"
   ]
  },
  {
   "cell_type": "markdown",
   "id": "b6679e51-5113-44c3-ac27-125d155ea786",
   "metadata": {},
   "source": [
    "The issue is to consider is how large of a new array to create. A commonly used rule is for the new array to have twice the capacity of the existing array that has been filled."
   ]
  },
  {
   "cell_type": "markdown",
   "id": "ac75e1e5-2c7e-4aac-89d6-3b2164f241cf",
   "metadata": {},
   "source": [
    "obs: Python ctypes is a foreign function library for Python that provides C compatible data types, and it allows calling functions in DLLs or shared libraries. It is a part of the Python standard library and provides a way to call functions in shared libraries or shared objects (.dll, .so)."
   ]
  },
  {
   "cell_type": "code",
   "execution_count": 18,
   "id": "12a303ae-fc32-441a-a06d-d165f8f422bf",
   "metadata": {},
   "outputs": [],
   "source": [
    "#Code Fragment 5.3\n",
    "import sys\n",
    "from ctypes import sizeof, py_object\n",
    "\n",
    "class DynamicArray:\n",
    "    def __init__(self):\n",
    "        self._n = 0\n",
    "        self._capacity = 1\n",
    "        self._A = self._make_array(self._capacity)\n",
    "\n",
    "    def __len__(self):\n",
    "        return self._n\n",
    "\n",
    "    def __getitem__(self, position):\n",
    "        if not 0 <= position < self._n:\n",
    "            raise IndexError('Invalid Index')\n",
    "        return self._A[position]\n",
    "\n",
    "    def __sizeof__(self):\n",
    "        return sizeof(self._A) + sys.getsizeof(self._n) + sys.getsizeof(self._capacity)\n",
    "\n",
    "    def __repr__(self):\n",
    "        return '[' + ','.join([str(self._A[i]) for i in range(self._n)]) + ']'\n",
    "\n",
    "    def _resize(self, new_capacity):\n",
    "        B = self._make_array(new_capacity)\n",
    "        B[:self._n] = self._A[:self._n]\n",
    "        self._A = B\n",
    "        self._capacity = new_capacity\n",
    "        \n",
    "    def _make_array(self, capacity):\n",
    "        return (capacity*py_object)()\n",
    "\n",
    "    def append(self, obj):\n",
    "        if self._n == self._capacity:\n",
    "            self._resize(2 * self._capacity)\n",
    "        self._A[self._n] = obj\n",
    "        self._n += 1"
   ]
  },
  {
   "cell_type": "code",
   "execution_count": 56,
   "id": "d6f5c485-a30c-469c-9aac-c6ef285b5b6a",
   "metadata": {},
   "outputs": [
    {
     "name": "stdout",
     "output_type": "stream",
     "text": [
      "Length: 0; Size in bytes: 64\n",
      "Length: 1; Size in bytes: 64\n",
      "Length: 2; Size in bytes: 72\n",
      "Length: 3; Size in bytes: 88\n",
      "Length: 4; Size in bytes: 88\n",
      "Length: 5; Size in bytes: 120\n",
      "Length: 6; Size in bytes: 120\n",
      "Length: 7; Size in bytes: 120\n",
      "Length: 8; Size in bytes: 120\n",
      "Length: 9; Size in bytes: 184\n"
     ]
    }
   ],
   "source": [
    "my_array = DynamicArray()\n",
    "for i in range(10):\n",
    "    a = len(my_array)\n",
    "    b = my_array.__sizeof__()\n",
    "    print(f\"Length: {a}; Size in bytes: {b}\")\n",
    "    my_array.append(None)"
   ]
  },
  {
   "cell_type": "markdown",
   "id": "6be4be71-c48b-4547-96ea-b16ca764e42b",
   "metadata": {},
   "source": [
    "## Amortized Analysis of Dynamic Arrays"
   ]
  },
  {
   "cell_type": "markdown",
   "id": "91ed4a1e-cfe7-4afc-8e4b-be4aa3b2675b",
   "metadata": {},
   "source": [
    "Amortized analysis is a method used to analyze the time or space complexity of algorithms or data structures over a sequence of operations. It provides a way to average out the cost of individual operations to understand the overall performance."
   ]
  },
  {
   "cell_type": "markdown",
   "id": "5ccaa8d2-47b8-4fc5-90e7-fc84281ba04f",
   "metadata": {},
   "source": [
    "Consider the `append` operation on a dynamic array. When the array reaches its full capacity, it needs to resize by allocating a new array with double the size and copying existing elements. Although this resizing operation has a time complexity of O(n), it occurs infrequently relative to the number of append operations. As a result, the amortized time complexity of the `append` operation remains constant (O(1))."
   ]
  },
  {
   "cell_type": "markdown",
   "id": "df267bbd-ac9c-4b3f-9c30-a4935b96df7d",
   "metadata": {},
   "source": [
    "Lets look deeper about the time complexity of each insertion on a Dynamic Array:\n",
    "\n",
    "- **Appending with Available Capacity**: If there is available space in the underlying array, the `append` operation can be performed in constant time (O(1)). This involves simple pointer manipulation to add the element to the end of the array.\n",
    "\n",
    "- **Resizing the Array**: When the underlying array is full, it needs to be resized. This involves allocating a new array with double the size and copying existing elements. This resizing operation is O(n), where n is the number of elements in the array.\n",
    "\n",
    "So, to calculate the amount of time to compute N insertions we get on this case \n",
    "\n",
    "total_cost = $1 + 2 + 1 + 4 + 1 + 1 + 8 + 1 + 1 + 1 + 1 ... $\n",
    "\n",
    "total_cost = $(2 + 4 + 8 ...) + N - \\lfloor\\log_2(N)\\rfloor $\n",
    "\n",
    "total_cost = $\\sum_{k=1}^\\left(\\lfloor\\log_2(N)\\rfloor + 1\\right) 2^k + N  - \\lfloor\\log_2(N)\\rfloor $\n",
    "\n",
    "total_cost = $\\frac{2^\\left(\\lfloor\\log_2(N)\\rfloor + 1\\right) - 1}{2 - 1} + N - \\lfloor\\log_2(N)\\rfloor$\n",
    "\n",
    "total_cost = $\\frac{2N - 1}{1} + N - \\lfloor\\log_2(N)\\rfloor$\n",
    "\n",
    "total_cost = $3N - \\lfloor\\log_2(N)\\rfloor - 1$\n",
    "\n",
    "total_cost = O(N)"
   ]
  },
  {
   "cell_type": "markdown",
   "id": "120058d3-1c47-4b76-ac07-71b666b1dc8d",
   "metadata": {},
   "source": [
    "from here we can deduce a general formula where the previous rate 2 becomes the r factor of amortization\n",
    "\n",
    "total_cost = $\\sum_{k=1}^\\left(\\lfloor\\log_r(N)\\rfloor + 1\\right) r^k + N  - \\lfloor\\log_r(N)\\rfloor $\n",
    "\n",
    "for example lets assume r =  1.5 (we increase 50% of the array length at each resize operation)\n",
    "\n",
    "total_cost = $\\sum_{k=1}^\\left(\\lfloor\\log_\\left(1.5\\right)(N)\\rfloor + 1 \\right) (1.5)^k + N  - \\lfloor\\log_\\left(1.5\\right)(N)\\rfloor $\n",
    "\n",
    "total_cost = $\\frac{(1.5)^\\left(\\lfloor\\log_\\left(1.5\\right)(N)\\rfloor + 1\\right) - 1}{1.5 - 1} + N - \\lfloor\\log_\\left(1.5\\right)(N)\\rfloor$\n",
    "\n",
    "total_cost = $\\frac{1.5N - 1}{0.5} + N - \\lfloor\\log_\\left(1.5\\right)(N)\\rfloor$\n",
    "\n",
    "total_cost = $4N - \\lfloor\\log_\\left(1.5\\right)(N)\\rfloor - 2$"
   ]
  },
  {
   "cell_type": "code",
   "execution_count": 75,
   "id": "489d8f87-4231-4d1f-9aaf-d4c4fdef6eaf",
   "metadata": {},
   "outputs": [
    {
     "name": "stdout",
     "output_type": "stream",
     "text": [
      "valor de n: 1000, valor amortizado por operacao: 0.05269050598144531\n",
      "valor de n: 101000, valor amortizado por operacao: 0.037679577818011296\n",
      "valor de n: 201000, valor amortizado por operacao: 0.0344674978683244\n",
      "valor de n: 301000, valor amortizado por operacao: 0.02854923869288245\n",
      "valor de n: 401000, valor amortizado por operacao: 0.013344900269163518\n",
      "valor de n: 501000, valor amortizado por operacao: 0.011377467842635044\n",
      "valor de n: 601000, valor amortizado por operacao: 0.010732406387709937\n",
      "valor de n: 701000, valor amortizado por operacao: 0.010700606755625336\n",
      "valor de n: 801000, valor amortizado por operacao: 0.011496478401022161\n",
      "valor de n: 901000, valor amortizado por operacao: 0.014143699281885145\n"
     ]
    }
   ],
   "source": [
    "#Code Fragment 5.4\n",
    "from time import time\n",
    "\n",
    "\n",
    "def compute_average(n):\n",
    "    data = []\n",
    "    start = time()\n",
    "    for k in range(n):\n",
    "        data.append(None)\n",
    "    end = time()\n",
    "    return (end - start)/n\n",
    "\n",
    "for i in range(1000, 1000000, 100000):\n",
    "    print(f\"valor de n: {i}, valor amortizado por operacao: {compute_average(i)/(10**-6)}\")"
   ]
  },
  {
   "cell_type": "markdown",
   "id": "5cec0169-f466-4d14-965c-6f8f58a68766",
   "metadata": {},
   "source": [
    "# Efficiency of Python’s Sequence Types"
   ]
  },
  {
   "cell_type": "markdown",
   "id": "81a27962-6df2-43b1-b077-9404086d3dd3",
   "metadata": {},
   "source": [
    "### Adding Elements to a List\n",
    "The insertion process in a dynamic array typically involves the following steps:\n",
    "\n",
    "1. **Check Capacity**: Before inserting a new element, the dynamic array checks if there is enough capacity to accommodate the new element. If the array is full, it needs to be resized to create additional space.\n",
    "\n",
    "2. **Shift Elements**: If inserting in the middle of the array, elements to the right of the insertion point need to be shifted to make space for the new element.\n",
    "\n",
    "3. **Insert Element**: Once space is made, the new element is inserted into the desired position in the array.\n",
    "\n",
    "4. **Resize Operation (if necessary)**: Similar to appending, if the array is full after insertion, it may need to be resized to accommodate more elements.\n",
    "\n",
    "#### Time Complexity\n",
    "\n",
    "The time complexity of inserting into the middle of a dynamic array involves both shifting elements and potential resizing:\n",
    "\n",
    "- **Shifting Elements**: Shifting elements to make space for the new element in the middle of the array is O(K + 1).\n",
    "- **Appending with Available Capacity**: If there's available space in the array after shifting, insertion can be performed in constant time (O(1)).\n",
    "- **Resizing the Array**: If the array needs to be resized after insertion, the operation becomes O(n), similar to appending.\n"
   ]
  },
  {
   "cell_type": "code",
   "execution_count": 40,
   "id": "71b230eb-3ddc-4065-97c5-9d621020b963",
   "metadata": {},
   "outputs": [],
   "source": [
    "class DynamicArrayInsert(DynamicArray):\n",
    "    def insert(self, position, obj):\n",
    "        if self._n == self._capacity:\n",
    "            self._resize(2*self._capacity)\n",
    "        for j in range(self._n, position, -1):\n",
    "            self._A[j] = self._A[j-1]\n",
    "        self._A[position] = obj\n",
    "        self._n += 1\n",
    "\n"
   ]
  },
  {
   "cell_type": "code",
   "execution_count": 177,
   "id": "38d106d0-deaa-4a97-b166-b2729c418757",
   "metadata": {},
   "outputs": [
    {
     "name": "stdout",
     "output_type": "stream",
     "text": [
      "inserindo dados no final do array\n",
      "valor de n: 10000, valor amortizado por operacao: 0.18770694732666016 u segundos\n",
      "valor de n: 20000, valor amortizado por operacao: 0.17174482345581057 u segundos\n",
      "valor de n: 30000, valor amortizado por operacao: 0.13644695281982422 u segundos\n",
      "valor de n: 40000, valor amortizado por operacao: 0.14689564704895022 u segundos\n",
      "inserindo dados no meio do array\n",
      "valor de n: 10000, valor amortizado por operacao: 96.53053283691406 u segundos\n",
      "valor de n: 20000, valor amortizado por operacao: 199.19607639312744 u segundos\n",
      "valor de n: 30000, valor amortizado por operacao: 292.03499158223474 u segundos\n",
      "valor de n: 40000, valor amortizado por operacao: 389.5691990852356 u segundos\n",
      "inserindo dados no inicio do array\n",
      "valor de n: 10000, valor amortizado por operacao: 197.5805997848511 u segundos\n",
      "valor de n: 20000, valor amortizado por operacao: 384.4240427017212 u segundos\n",
      "valor de n: 30000, valor amortizado por operacao: 581.8004687627157 u segundos\n",
      "valor de n: 40000, valor amortizado por operacao: 784.9308252334595 u segundos\n"
     ]
    }
   ],
   "source": [
    "from time import time\n",
    "\n",
    "\n",
    "def compute_average(n, position):\n",
    "    data = DynamicArrayInsert()\n",
    "    start = time()\n",
    "    count = 1\n",
    "    for k in range(n):\n",
    "        if position == 'final':\n",
    "            position_value = count - 1\n",
    "        elif position == 'middle':\n",
    "            position_value = count // 2\n",
    "        else:\n",
    "            position_value = 0\n",
    "        data.insert(position_value, None)\n",
    "        count += 1\n",
    "    end = time()\n",
    "    return (end - start)/n\n",
    "\n",
    "print(\"inserindo dados no final do array\")\n",
    "for i in range(10000, 50000, 10000):\n",
    "    print(f\"valor de n: {i}, valor amortizado por operacao: {compute_average(i, 'final')/(10**-6)} u segundos\")\n",
    "print(\"inserindo dados no meio do array\")\n",
    "for i in range(10000, 50000, 10000):\n",
    "    print(f\"valor de n: {i}, valor amortizado por operacao: {compute_average(i, 'middle')/(10**-6)} u segundos\")\n",
    "print(\"inserindo dados no inicio do array\")\n",
    "for i in range(10000, 50000, 10000):\n",
    "    print(f\"valor de n: {i}, valor amortizado por operacao: {compute_average(i, 'beguining')/(10**-6)} u segundos\")"
   ]
  },
  {
   "cell_type": "markdown",
   "id": "a0c8c57e-0b22-47e9-9dd5-eaddaa7d083b",
   "metadata": {},
   "source": [
    "The removal process in a dynamic array typically involves the following steps:\n",
    "\n",
    "1. **Search for Element**: The dynamic array searches for the specified element to be removed. This can be done sequentially from the beginning of the array to the end, or using a more efficient search algorithm depending on the requirements.\n",
    "\n",
    "2. **Identify Element Location**: Once the element to be removed is found, its location (index) in the array is identified.\n",
    "\n",
    "3. **Shift Elements**: After identifying the location of the element to be removed, all subsequent elements to the right of the removed element need to be shifted to the left to fill the gap created by the removal.\n",
    "\n",
    "4. **Update Size**: After shifting elements, the size of the array is decremented to reflect the removal of the element.\n"
   ]
  },
  {
   "cell_type": "code",
   "execution_count": 121,
   "id": "5679ea43-fdb1-4b1f-968d-0448b4b3cb04",
   "metadata": {},
   "outputs": [
    {
     "name": "stdout",
     "output_type": "stream",
     "text": [
      "[10,10,10]\n",
      "[]\n"
     ]
    }
   ],
   "source": [
    "class DynamicArrayRemove(DynamicArray):\n",
    "    def remove(self, obj):\n",
    "        occurencies = 0\n",
    "        for k in range(self._n):\n",
    "            if self._A[k] == obj:\n",
    "                occurencies += 1\n",
    "                for j in range(k, self._n, -1):\n",
    "                    self._A[j] = self._A[j+1]\n",
    "                    self._A[self._n - occurencies] = None\n",
    "        if not occurencies:\n",
    "            raise ValueError('value not found')\n",
    "        else:\n",
    "            self._n -= occurencies\n",
    "\n",
    "\n",
    "my_array = DynamicArrayRemove()\n",
    "my_array.append(10)\n",
    "my_array.append(10)\n",
    "my_array.append(10)\n",
    "print(my_array)\n",
    "my_array.remove(10)\n",
    "print(my_array)"
   ]
  },
  {
   "cell_type": "markdown",
   "id": "f05d6726-7790-43b3-a961-700960241cb2",
   "metadata": {},
   "source": [
    "# Questions"
   ]
  },
  {
   "cell_type": "markdown",
   "id": "1e8669e6-f483-4d50-b762-3922d771fb94",
   "metadata": {
    "jp-MarkdownHeadingCollapsed": true
   },
   "source": [
    "## Question 1\n",
    "```Execute the experiment from Code Fragment 5.1 and compare the results on your system to those we report in Code Fragment 5.2.```"
   ]
  },
  {
   "cell_type": "code",
   "execution_count": 1,
   "id": "4487af3e-fcaf-4f1a-940e-c415af152418",
   "metadata": {},
   "outputs": [
    {
     "name": "stdout",
     "output_type": "stream",
     "text": [
      "Length:   0; Size in bytes:   56\n",
      "Length:   1; Size in bytes:   88\n",
      "Length:   2; Size in bytes:   88\n",
      "Length:   3; Size in bytes:   88\n",
      "Length:   4; Size in bytes:   88\n",
      "Length:   5; Size in bytes:  120\n",
      "Length:   6; Size in bytes:  120\n",
      "Length:   7; Size in bytes:  120\n",
      "Length:   8; Size in bytes:  120\n",
      "Length:   9; Size in bytes:  184\n",
      "Length:  10; Size in bytes:  184\n",
      "Length:  11; Size in bytes:  184\n",
      "Length:  12; Size in bytes:  184\n",
      "Length:  13; Size in bytes:  184\n",
      "Length:  14; Size in bytes:  184\n",
      "Length:  15; Size in bytes:  184\n",
      "Length:  16; Size in bytes:  184\n",
      "Length:  17; Size in bytes:  248\n",
      "Length:  18; Size in bytes:  248\n",
      "Length:  19; Size in bytes:  248\n"
     ]
    }
   ],
   "source": [
    "import sys\n",
    "\n",
    "\n",
    "data = []\n",
    "for k in range(20):\n",
    "    a = len(data)\n",
    "    b = sys.getsizeof(data)\n",
    "    print('Length: {0:3d}; Size in bytes: {1:4d}'.format(a,b))\n",
    "    data.append(None)"
   ]
  },
  {
   "cell_type": "markdown",
   "id": "d74e6f1f-e4cf-4573-a699-db9b5ebf80c3",
   "metadata": {},
   "source": [
    "## Question 2\n",
    "```In Code Fragment 5.1, we perform an experiment to compare the length of a Python list to its underlying memory usage. Determining the sequence of array sizes requires a manual inspection of the output of that program. Redesign the experiment so that the program outputs only those values of k at which the existing capacity is exhausted. For example, on a system consistent with the results of Code Fragment 5.2, your program should output that the sequence of array capacities are 0, 4, 8, 16, 24, . . . .```"
   ]
  },
  {
   "cell_type": "code",
   "execution_count": 4,
   "id": "cc40a98c-dce9-4027-a389-9b46a2d6e3b4",
   "metadata": {},
   "outputs": [
    {
     "name": "stdout",
     "output_type": "stream",
     "text": [
      "0\n",
      "4\n",
      "8\n",
      "16\n",
      "24\n",
      "32\n",
      "40\n"
     ]
    }
   ],
   "source": [
    "import sys\n",
    "\n",
    "\n",
    "data = []\n",
    "for k in range(50):\n",
    "    a = len(data)\n",
    "    b = sys.getsizeof(data)\n",
    "    total = (b-56)/8\n",
    "    if total == a:\n",
    "        print(a)\n",
    "    data.append(None)"
   ]
  },
  {
   "cell_type": "markdown",
   "id": "8a5f4b81-215a-4519-b365-a5cdfbeba1fc",
   "metadata": {},
   "source": [
    "## Question 3\n",
    "```Modify the experiment from Code Fragment 5.1 in order to demonstrate that Python’s list class occasionally shrinks the size of its underlying array when elements are popped from a list.```"
   ]
  },
  {
   "cell_type": "code",
   "execution_count": 6,
   "id": "3228d818-794f-432f-8f8c-c3df53a36e1d",
   "metadata": {},
   "outputs": [
    {
     "name": "stdout",
     "output_type": "stream",
     "text": [
      "Length:  19; Size in bytes:  248\n",
      "Length:  18; Size in bytes:  248\n",
      "Length:  17; Size in bytes:  248\n",
      "Length:  16; Size in bytes:  248\n",
      "Length:  15; Size in bytes:  248\n",
      "Length:  14; Size in bytes:  248\n",
      "Length:  13; Size in bytes:  248\n",
      "Length:  12; Size in bytes:  248\n",
      "Length:  11; Size in bytes:  184\n",
      "Length:  10; Size in bytes:  184\n",
      "Length:   9; Size in bytes:  184\n",
      "Length:   8; Size in bytes:  184\n",
      "Length:   7; Size in bytes:  152\n",
      "Length:   6; Size in bytes:  152\n",
      "Length:   5; Size in bytes:  120\n",
      "Length:   4; Size in bytes:  120\n",
      "Length:   3; Size in bytes:  120\n",
      "Length:   2; Size in bytes:  120\n",
      "Length:   1; Size in bytes:   88\n",
      "Length:   0; Size in bytes:   56\n"
     ]
    }
   ],
   "source": [
    "import sys\n",
    "\n",
    "\n",
    "data = []\n",
    "for k in range(20):\n",
    "    data.append(None)\n",
    "\n",
    "for k in range(20):\n",
    "    data.pop()\n",
    "    a = len(data)\n",
    "    b = sys.getsizeof(data)\n",
    "    print('Length: {0:3d}; Size in bytes: {1:4d}'.format(a,b))"
   ]
  },
  {
   "cell_type": "markdown",
   "id": "abb5ec3b-039f-4554-9a3a-52192dfed142",
   "metadata": {},
   "source": [
    "## Question 4\n",
    "```Our DynamicArray class, as given in Code Fragment 5.3, does not support use of negative indices with getitem . Update that method to better match the semantics of a Python list.```"
   ]
  },
  {
   "cell_type": "code",
   "execution_count": 35,
   "id": "6dc3f742-e62a-4689-8f0a-48960692c36b",
   "metadata": {},
   "outputs": [],
   "source": [
    "class DynamicArrayNegativeIndex(DynamicArray):\n",
    "    def __getitem__(self, position):\n",
    "        if position < 0:\n",
    "            position = self._n + position\n",
    "        if not 0 <= position < self._n:\n",
    "            raise IndexError('Invalid Index')\n",
    "        return self._A[position]"
   ]
  },
  {
   "cell_type": "code",
   "execution_count": 36,
   "id": "a8947480-f159-4017-9e03-d801cc1ef867",
   "metadata": {},
   "outputs": [
    {
     "name": "stdout",
     "output_type": "stream",
     "text": [
      "9\n"
     ]
    }
   ],
   "source": [
    "my_array = DynamicArrayNegativeIndex()\n",
    "\n",
    "for i in range(10):\n",
    "    my_array.append(i)\n",
    "\n",
    "print(my_array[-1])"
   ]
  },
  {
   "cell_type": "markdown",
   "id": "af22fbc4-b4ef-495b-bb0e-a6f62a4a036c",
   "metadata": {},
   "source": [
    "## Question 5\n",
    "```Redo the justification of Proposition 5.1 assuming that the the cost of growing the array from size k to size 2k is 3k cyber-dollars. How much should each append operation be charged to make the amortization work?```"
   ]
  },
  {
   "cell_type": "markdown",
   "id": "20cca5e1-0443-41b7-9187-7f73fb7f17bb",
   "metadata": {},
   "source": [
    "total_cost = $1 + 8 + 1 + 16 + 1 + 1 + 1 + 24 + 1 + 1 + 1 + 1 ... $\n",
    "\n",
    "total_cost = $3(2 + 4 + 8 ...) + N - \\lfloor\\log_2(N)\\rfloor $\n",
    "\n",
    "total_cost = $3\\sum_{k=1}^\\left(\\lfloor\\log_2(N)\\rfloor + 1 \\right) 2^k + N  - \\lfloor\\log_2(N)\\rfloor $\n",
    "\n",
    "total_cost = $3\\frac{2^\\left(\\lfloor\\log_2(N)\\rfloor + 1 \\right) - 1}{2 - 1} + N - \\lfloor\\log_2(N)\\rfloor$\n",
    "\n",
    "total_cost = $3\\frac{2N - 1}{1} + N - \\lfloor\\log_2(N)\\rfloor$\n",
    "\n",
    "total_cost = $7N - \\lfloor\\log_2(N)\\rfloor - 3$"
   ]
  },
  {
   "cell_type": "markdown",
   "id": "f269d25c-1d8d-4a9a-86f8-ded5a2020d34",
   "metadata": {},
   "source": [
    "## Question 6\n",
    "```Our implementation of insert for the DynamicArray class, as given in Code Fragment 5.5, has the following inefficiency. In the case when a re-size occurs, the resize operation takes time to copy all the elements from an old array to a new array, and then the subsequent loop in the body of  insert shifts many of those elements. Give an improved implementation of the insert method, so that, in the case of a resize, the elements are shifted into their final position during that operation, thereby avoiding the subsequent shifting```"
   ]
  },
  {
   "cell_type": "code",
   "execution_count": 175,
   "id": "c57e284c-7a2b-4568-b7a2-f7c7e9911728",
   "metadata": {},
   "outputs": [],
   "source": [
    "class OptimizedDynamicInsert(DynamicArrayInsert):\n",
    "    def _shift(self, k, target_array=None):\n",
    "        array_to_shift = target_array if target_array else self._A\n",
    "        for i in range(self._n, k, -1):\n",
    "            array_to_shift[i] = self._A[i-1]\n",
    "            \n",
    "    def _resize(self, c, k):\n",
    "        B = self._make_array(c)\n",
    "        for i in range(k):\n",
    "            B[i] = self._A[i]\n",
    "        self._shift(k, B)\n",
    "        self._A = B\n",
    "        self._capacity = c\n",
    "        \n",
    "    def insert(self, value, k):\n",
    "        if self._n == self._capacity:\n",
    "            self._resize(2*self._capacity, k)\n",
    "        else:\n",
    "            self._shift(k)\n",
    "        self._A[k] = value\n",
    "        self._n += 1\n",
    "    \n",
    "    def append(self, obj):\n",
    "        if self._n == self._capacity:\n",
    "            self._resize(2 * self._capacity, self._n)\n",
    "        self._A[self._n] = obj\n",
    "        self._n += 1"
   ]
  },
  {
   "cell_type": "code",
   "execution_count": 178,
   "id": "8b1d7204-3e3d-4bc4-a6db-d76bae86a7a9",
   "metadata": {},
   "outputs": [
    {
     "name": "stdout",
     "output_type": "stream",
     "text": [
      "[10,10,100,10]\n"
     ]
    }
   ],
   "source": [
    "array = OptimizedDynamicInsert()\n",
    "\n",
    "array.insert(10,0)\n",
    "array.insert(10,0)\n",
    "array.insert(10,0)\n",
    "array.insert(100,2)\n",
    "print(array)"
   ]
  },
  {
   "cell_type": "markdown",
   "id": "45b11973-ebf9-49eb-ba03-b624e8794bb2",
   "metadata": {},
   "source": [
    "## Question 7\n",
    "```Let A be an array of size n ≥ 2 containing integers from 1 to n − 1, inclusive, with exactly one repeated. Describe a fast algorithm for finding the integer in A that is repeated.```"
   ]
  },
  {
   "cell_type": "code",
   "execution_count": 186,
   "id": "4bb92282-f7d1-4c5c-9dbe-c5d47de26e09",
   "metadata": {},
   "outputs": [
    {
     "data": {
      "text/plain": [
       "4"
      ]
     },
     "execution_count": 186,
     "metadata": {},
     "output_type": "execute_result"
    }
   ],
   "source": [
    "#O(n) algorithm\n",
    "\n",
    "def found_duplicate(array):\n",
    "    n = len(a)\n",
    "    b = [i for i in range(1,n)]\n",
    "    for i in a:\n",
    "        try:\n",
    "            b.remove(i)\n",
    "        except Exception as e:\n",
    "            return i\n",
    "    return\n",
    "\n",
    "a  =  [1,4,2,3,4,5]\n",
    "found_duplicate(a)"
   ]
  },
  {
   "cell_type": "markdown",
   "id": "22db3972-0e9a-448a-a478-3d9616521289",
   "metadata": {},
   "source": [
    "## Question 8"
   ]
  },
  {
   "cell_type": "markdown",
   "id": "99281679-35f5-4a08-be96-dc9af7d960e2",
   "metadata": {},
   "source": [
    "```Experimentally evaluate the efficiency of the pop method of Python’s list class when using varying indices as a parameter, as we did for insert. Report your results akin to Table 5.5```"
   ]
  },
  {
   "cell_type": "code",
   "execution_count": 192,
   "id": "7be101ae-8075-4173-a84e-f5fa7f822269",
   "metadata": {},
   "outputs": [],
   "source": [
    "class DynamicArrayPop(DynamicArray):\n",
    "    def pop(self, k=None):\n",
    "        if not k:\n",
    "            k = self._n - 1\n",
    "        for i in range(k, self._n - 1):\n",
    "            self._A[i] = self._A[i + 1]\n",
    "        self._n -= 1\n",
    "        self._A[self._n] = None\n",
    "        if self._n < self._capacity//4:\n",
    "            self._resize(self._capacity//2)"
   ]
  },
  {
   "cell_type": "code",
   "execution_count": 198,
   "id": "cc447c8b-3ba1-4423-bb22-247fc3610280",
   "metadata": {},
   "outputs": [
    {
     "name": "stdout",
     "output_type": "stream",
     "text": [
      "removendo dados no final do array\n",
      "valor de n: 100000, valor amortizado por operacao: 0.038518905639648444 u segundos\n",
      "valor de n: 200000, valor amortizado por operacao: 0.0443720817565918 u segundos\n",
      "valor de n: 300000, valor amortizado por operacao: 0.03778775533040365 u segundos\n",
      "valor de n: 400000, valor amortizado por operacao: 0.04300832748413086 u segundos\n",
      "removendo dados no meio do array\n",
      "valor de n: 100000, valor amortizado por operacao: 2.848808765411377 u segundos\n",
      "valor de n: 200000, valor amortizado por operacao: 5.613065958023072 u segundos\n",
      "valor de n: 300000, valor amortizado por operacao: 9.7862180074056 u segundos\n",
      "valor de n: 400000, valor amortizado por operacao: 15.593248605728151 u segundos\n",
      "removendo dados no inicio do array\n",
      "valor de n: 100000, valor amortizado por operacao: 5.423221588134766 u segundos\n",
      "valor de n: 200000, valor amortizado por operacao: 14.392311573028564 u segundos\n",
      "valor de n: 300000, valor amortizado por operacao: 28.809954325358074 u segundos\n",
      "valor de n: 400000, valor amortizado por operacao: 42.0698344707489 u segundos\n"
     ]
    }
   ],
   "source": [
    "from time import time\n",
    "\n",
    "\n",
    "def compute_average(n, position):\n",
    "    data = [0]*n\n",
    "    start = time()\n",
    "    for k in range(n):\n",
    "        if position == 'final':\n",
    "            position_value = len(data) - 1\n",
    "        elif position == 'middle':\n",
    "            position_value = len(data) // 2\n",
    "        else:\n",
    "            position_value = 0\n",
    "        data.pop(position_value)\n",
    "    end = time()\n",
    "    return (end - start)/n\n",
    "\n",
    "print(\"removendo dados no final do array\")\n",
    "for i in range(100000, 500000, 100000):\n",
    "    print(f\"valor de n: {i}, valor amortizado por operacao: {compute_average(i, 'final')/(10**-6)} u segundos\")\n",
    "print(\"removendo dados no meio do array\")\n",
    "for i in range(100000, 500000, 100000):\n",
    "    print(f\"valor de n: {i}, valor amortizado por operacao: {compute_average(i, 'middle')/(10**-6)} u segundos\")\n",
    "print(\"removendo dados no inicio do array\")\n",
    "for i in range(100000, 500000, 100000):\n",
    "    print(f\"valor de n: {i}, valor amortizado por operacao: {compute_average(i, 'beguining')/(10**-6)} u segundos\")"
   ]
  }
 ],
 "metadata": {
  "kernelspec": {
   "display_name": "Python 3 (ipykernel)",
   "language": "python",
   "name": "python3"
  },
  "language_info": {
   "codemirror_mode": {
    "name": "ipython",
    "version": 3
   },
   "file_extension": ".py",
   "mimetype": "text/x-python",
   "name": "python",
   "nbconvert_exporter": "python",
   "pygments_lexer": "ipython3",
   "version": "3.11.5"
  }
 },
 "nbformat": 4,
 "nbformat_minor": 5
}
