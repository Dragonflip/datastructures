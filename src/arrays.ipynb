{
 "cells": [
  {
   "cell_type": "markdown",
   "id": "2efdb7ff-6a98-4295-8134-1a5aa1510c4e",
   "metadata": {
    "jp-MarkdownHeadingCollapsed": true
   },
   "source": [
    "## Low-Level Arrays\n"
   ]
  },
  {
   "cell_type": "markdown",
   "id": "147569f2-5bb7-4402-8995-ac8d325b7eb0",
   "metadata": {},
   "source": [
    "An array is a group of related variables stored one after another in a contiguous portion of computer memory. We can use a string as an example, which Python stores as a sequence of individual characters.\n",
    "\n",
    "The benefit of using this type of data structure is the ability to retrieve any information in constant time (O(1)). By knowing the memory location at which the array starts and the position of the desired information, you can simply calculate the memory address using the formula `start + (index * element size)` (Of course, the arithmetic for calculating memory addresses within an array can\n",
    "be handled automatically).\n",
    "\n",
    "![String Example](../img/arrays/string_example.png)\n",
    "*Example of how a string is stored in memory as an array of characters.*"
   ]
  },
  {
   "cell_type": "markdown",
   "id": "68ecb258-5b5b-4e3b-b16f-5445ab65c837",
   "metadata": {
    "jp-MarkdownHeadingCollapsed": true
   },
   "source": [
    "### Referential Arrays"
   ]
  },
  {
   "cell_type": "markdown",
   "id": "1510b872-6573-4f1a-985e-5a160baa3e60",
   "metadata": {},
   "source": [
    "referential arrays store the bits that represents the reference address memory of the data. \n",
    "\n",
    "\n",
    "In scenarios where we don't know the exact memory requirements for the variables we want to store in an array, allocating maximum memory for each variable would be inefficient and wasteful. Instead, we can utilize referential arrays, where we store references to the memory addresses where these variables are stored.\n",
    "\n",
    "![Referential Array Example](../img/arrays/string_reference_array.png)\n",
    "*Example illustrating a referential array storing references to strings.*"
   ]
  },
  {
   "cell_type": "markdown",
   "id": "79a90c55-779c-460a-a302-edf9703369e6",
   "metadata": {},
   "source": [
    "### Compact Arrays"
   ]
  },
  {
   "cell_type": "markdown",
   "id": "a5b29de0-3ef1-4bd7-9246-a39bba883825",
   "metadata": {},
   "source": [
    "compact arrays store the bits that represents the primary data. \n",
    "\n",
    "They have several advantages over referential structures in terms of computing performance, most significantly, the overall memory usage will be much lower for a compact structure because there is no overhead devoted to the explicit storage of the sequence of memory references.\n",
    "\n",
    "![Compact Array Example](../img/arrays/string_compact_array.png)\n",
    "\n",
    "*Example illustrating a compact array storing references to strings.*"
   ]
  },
  {
   "cell_type": "markdown",
   "id": "cb8baa0a-1064-48f7-9390-f22b2cd95534",
   "metadata": {},
   "source": [
    "#  Dynamic Arrays"
   ]
  },
  {
   "cell_type": "markdown",
   "id": "a78c0b3c-b05a-47b6-bc86-c82505d4e3a9",
   "metadata": {},
   "source": [
    "When creating a low-level array in a computer system, the precise size of that array must be explicitly declared in order for the system to properly allocate a consecutive piece of memory for its storage.\n",
    "\n",
    "The first key to providing the semantics of a dynamic array is that a dynamic array instance maintains an underlying array that often has greater capacity than the current length of the dynamic array. For example, if a user create an dynamic array with 10 elements, we can create an underlying array with 15 elements size (5 extra element sizes), than facilitating the user to append new itens to their dynamic array. \n",
    "\n",
    "If a user continues to append elements to a list, any reserved capacity will eventually be exhausted. In that case, the class requests a new, larger array from the system, and initializes the new array so that its prefix matches that of the existing smaller array."
   ]
  },
  {
   "cell_type": "markdown",
   "id": "11d32be5-08b4-4a03-ae97-b015a2366a50",
   "metadata": {},
   "source": [
    "### Code Fragment 5.1"
   ]
  },
  {
   "cell_type": "markdown",
   "id": "a8c497cb-bd8b-419b-be6a-e848f85b76af",
   "metadata": {},
   "source": [
    "An experiment to investigate the correlation between the length of a list and its underlying size in Python.\n",
    "\n",
    "In this experiment, we observe that even an empty list consumes a certain amount of memory. Additionally, we note that the length of the list does not increase linearly as elements are added. Instead, the length only increases when attempting to insert more elements than the current capacity of the underlying array. At this point, a new underlying array is created with a larger capacity, and the elements are transferred to it. This process continues as more elements are added to the list."
   ]
  },
  {
   "cell_type": "code",
   "execution_count": 1,
   "id": "dd334628-3eeb-4a07-9d2c-27d688b45656",
   "metadata": {},
   "outputs": [
    {
     "name": "stdout",
     "output_type": "stream",
     "text": [
      "Length: 0; Size in bytes: 56\n",
      "Length: 1; Size in bytes: 88\n",
      "Length: 2; Size in bytes: 88\n",
      "Length: 3; Size in bytes: 88\n",
      "Length: 4; Size in bytes: 88\n",
      "Length: 5; Size in bytes: 120\n",
      "Length: 6; Size in bytes: 120\n",
      "Length: 7; Size in bytes: 120\n",
      "Length: 8; Size in bytes: 120\n",
      "Length: 9; Size in bytes: 184\n"
     ]
    }
   ],
   "source": [
    "#Code Fragment 5.1\n",
    "import sys\n",
    "\n",
    "\n",
    "data = []\n",
    "for k in range(10):\n",
    "    a = len(data)\n",
    "    b = sys.getsizeof(data)\n",
    "    print(f\"Length: {a}; Size in bytes: {b}\")\n",
    "    data.append(None)\n",
    "    "
   ]
  },
  {
   "cell_type": "code",
   "execution_count": null,
   "id": "ea3b2eaf-0ae5-4ad5-8614-ac11aac571b0",
   "metadata": {},
   "outputs": [],
   "source": []
  }
 ],
 "metadata": {
  "kernelspec": {
   "display_name": "Python 3 (ipykernel)",
   "language": "python",
   "name": "python3"
  },
  "language_info": {
   "codemirror_mode": {
    "name": "ipython",
    "version": 3
   },
   "file_extension": ".py",
   "mimetype": "text/x-python",
   "name": "python",
   "nbconvert_exporter": "python",
   "pygments_lexer": "ipython3",
   "version": "3.11.5"
  }
 },
 "nbformat": 4,
 "nbformat_minor": 5
}
